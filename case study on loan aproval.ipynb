{
 "cells": [
  {
   "cell_type": "code",
   "execution_count": 1,
   "id": "a370377b",
   "metadata": {},
   "outputs": [
    {
     "data": {
      "text/plain": [
       "'E:\\\\Phase'"
      ]
     },
     "execution_count": 1,
     "metadata": {},
     "output_type": "execute_result"
    }
   ],
   "source": [
    "import pandas as pd\n",
    "import numpy as np\n",
    "import matplotlib.pyplot as plt\n",
    "import seaborn as sns\n",
    "sns.set();\n",
    "import os\n",
    "os.chdir(\"E:\\Phase\")\n",
    "os.getcwd()"
   ]
  },
  {
   "cell_type": "code",
   "execution_count": 2,
   "id": "ad2a5d4c",
   "metadata": {},
   "outputs": [],
   "source": [
    "df=pd.read_excel(\"dataset11.xlsx\",sheet_name=\"Data\")"
   ]
  },
  {
   "cell_type": "code",
   "execution_count": 3,
   "id": "a74152cb",
   "metadata": {},
   "outputs": [],
   "source": [
    "data=pd.read_excel(\"dataset11.xlsx\",sheet_name=\"Data\")"
   ]
  },
  {
   "cell_type": "code",
   "execution_count": 4,
   "id": "4d4418e5",
   "metadata": {},
   "outputs": [
    {
     "data": {
      "text/html": [
       "<div>\n",
       "<style scoped>\n",
       "    .dataframe tbody tr th:only-of-type {\n",
       "        vertical-align: middle;\n",
       "    }\n",
       "\n",
       "    .dataframe tbody tr th {\n",
       "        vertical-align: top;\n",
       "    }\n",
       "\n",
       "    .dataframe thead th {\n",
       "        text-align: right;\n",
       "    }\n",
       "</style>\n",
       "<table border=\"1\" class=\"dataframe\">\n",
       "  <thead>\n",
       "    <tr style=\"text-align: right;\">\n",
       "      <th></th>\n",
       "      <th>loan_amnt</th>\n",
       "      <th>FICO</th>\n",
       "      <th>dti</th>\n",
       "      <th>emp_length</th>\n",
       "      <th>loan_status</th>\n",
       "      <th>addr_state</th>\n",
       "      <th>accept_d</th>\n",
       "      <th>issue_d</th>\n",
       "      <th>funded_amnt</th>\n",
       "      <th>Accepted</th>\n",
       "      <th>GreaterThan120</th>\n",
       "      <th>Between31_120</th>\n",
       "    </tr>\n",
       "  </thead>\n",
       "  <tbody>\n",
       "    <tr>\n",
       "      <th>0</th>\n",
       "      <td>25000.0</td>\n",
       "      <td>737.0</td>\n",
       "      <td>19.48</td>\n",
       "      <td>&lt; 1 year</td>\n",
       "      <td>Fully Paid</td>\n",
       "      <td>CA</td>\n",
       "      <td>2009-07-26 00:00:00</td>\n",
       "      <td>2009-08-05 00:00:00</td>\n",
       "      <td>25000</td>\n",
       "      <td>Yes</td>\n",
       "      <td>!&gt;120</td>\n",
       "      <td>!31-120</td>\n",
       "    </tr>\n",
       "    <tr>\n",
       "      <th>1</th>\n",
       "      <td>7000.0</td>\n",
       "      <td>707.0</td>\n",
       "      <td>14.29</td>\n",
       "      <td>&lt; 1 year</td>\n",
       "      <td>Fully Paid</td>\n",
       "      <td>NY</td>\n",
       "      <td>2008-05-12 00:00:00</td>\n",
       "      <td>2008-05-27 00:00:00</td>\n",
       "      <td>7000</td>\n",
       "      <td>Yes</td>\n",
       "      <td>!&gt;120</td>\n",
       "      <td>!31-120</td>\n",
       "    </tr>\n",
       "    <tr>\n",
       "      <th>2</th>\n",
       "      <td>1200.0</td>\n",
       "      <td>677.0</td>\n",
       "      <td>5.47</td>\n",
       "      <td>10+ years</td>\n",
       "      <td>Fully Paid</td>\n",
       "      <td>TX</td>\n",
       "      <td>2010-03-11 00:00:00</td>\n",
       "      <td>2010-03-22 00:00:00</td>\n",
       "      <td>1200</td>\n",
       "      <td>Yes</td>\n",
       "      <td>!&gt;120</td>\n",
       "      <td>!31-120</td>\n",
       "    </tr>\n",
       "    <tr>\n",
       "      <th>3</th>\n",
       "      <td>10800.0</td>\n",
       "      <td>682.0</td>\n",
       "      <td>11.63</td>\n",
       "      <td>6 years</td>\n",
       "      <td>Fully Paid</td>\n",
       "      <td>CT</td>\n",
       "      <td>2009-11-04 00:00:00</td>\n",
       "      <td>2009-11-12 00:00:00</td>\n",
       "      <td>10800</td>\n",
       "      <td>Yes</td>\n",
       "      <td>!&gt;120</td>\n",
       "      <td>!31-120</td>\n",
       "    </tr>\n",
       "    <tr>\n",
       "      <th>4</th>\n",
       "      <td>7200.0</td>\n",
       "      <td>662.0</td>\n",
       "      <td>2.05</td>\n",
       "      <td>9 years</td>\n",
       "      <td>Current</td>\n",
       "      <td>RI</td>\n",
       "      <td>2012-08-14 00:00:00</td>\n",
       "      <td>2012-08-21 00:00:00</td>\n",
       "      <td>7200</td>\n",
       "      <td>Yes</td>\n",
       "      <td>!&gt;120</td>\n",
       "      <td>!31-120</td>\n",
       "    </tr>\n",
       "  </tbody>\n",
       "</table>\n",
       "</div>"
      ],
      "text/plain": [
       "   loan_amnt   FICO    dti emp_length loan_status addr_state  \\\n",
       "0    25000.0  737.0  19.48   < 1 year  Fully Paid         CA   \n",
       "1     7000.0  707.0  14.29   < 1 year  Fully Paid         NY   \n",
       "2     1200.0  677.0   5.47  10+ years  Fully Paid         TX   \n",
       "3    10800.0  682.0  11.63    6 years  Fully Paid         CT   \n",
       "4     7200.0  662.0   2.05    9 years     Current         RI   \n",
       "\n",
       "              accept_d              issue_d  funded_amnt Accepted  \\\n",
       "0  2009-07-26 00:00:00  2009-08-05 00:00:00        25000      Yes   \n",
       "1  2008-05-12 00:00:00  2008-05-27 00:00:00         7000      Yes   \n",
       "2  2010-03-11 00:00:00  2010-03-22 00:00:00         1200      Yes   \n",
       "3  2009-11-04 00:00:00  2009-11-12 00:00:00        10800      Yes   \n",
       "4  2012-08-14 00:00:00  2012-08-21 00:00:00         7200      Yes   \n",
       "\n",
       "  GreaterThan120 Between31_120  \n",
       "0          !>120       !31-120  \n",
       "1          !>120       !31-120  \n",
       "2          !>120       !31-120  \n",
       "3          !>120       !31-120  \n",
       "4          !>120       !31-120  "
      ]
     },
     "execution_count": 4,
     "metadata": {},
     "output_type": "execute_result"
    }
   ],
   "source": [
    "df.head()"
   ]
  },
  {
   "cell_type": "code",
   "execution_count": 5,
   "id": "dad72249",
   "metadata": {},
   "outputs": [
    {
     "data": {
      "text/plain": [
       "Index(['loan_amnt', 'FICO', 'dti', 'emp_length', 'loan_status', 'addr_state',\n",
       "       'accept_d', 'issue_d', 'funded_amnt', 'Accepted', 'GreaterThan120',\n",
       "       'Between31_120'],\n",
       "      dtype='object')"
      ]
     },
     "execution_count": 5,
     "metadata": {},
     "output_type": "execute_result"
    }
   ],
   "source": [
    "df.columns"
   ]
  },
  {
   "cell_type": "code",
   "execution_count": 6,
   "id": "1785b137",
   "metadata": {},
   "outputs": [
    {
     "data": {
      "text/plain": [
       "loan_amnt         float64\n",
       "FICO              float64\n",
       "dti               float64\n",
       "emp_length         object\n",
       "loan_status        object\n",
       "addr_state         object\n",
       "accept_d           object\n",
       "issue_d            object\n",
       "funded_amnt         int64\n",
       "Accepted           object\n",
       "GreaterThan120     object\n",
       "Between31_120      object\n",
       "dtype: object"
      ]
     },
     "execution_count": 6,
     "metadata": {},
     "output_type": "execute_result"
    }
   ],
   "source": [
    "df.dtypes"
   ]
  },
  {
   "cell_type": "code",
   "execution_count": 7,
   "id": "b6f0309d",
   "metadata": {},
   "outputs": [],
   "source": [
    "df[\"new_emp_length\"]=df[\"emp_length\"].replace(['< 1 year', '10+ years', '6 years', '9 years', '3 years', '1 year',\n",
    "       '5 years', '2 years', '4 years', '8 years', '7 years'],[0.5,11,6,9,3,1,5,2,4,8,7])"
   ]
  },
  {
   "cell_type": "code",
   "execution_count": 8,
   "id": "4eab8a1b",
   "metadata": {},
   "outputs": [
    {
     "data": {
      "text/plain": [
       "loan_amnt         float64\n",
       "FICO              float64\n",
       "dti               float64\n",
       "emp_length         object\n",
       "loan_status        object\n",
       "addr_state         object\n",
       "accept_d           object\n",
       "issue_d            object\n",
       "funded_amnt         int64\n",
       "Accepted           object\n",
       "GreaterThan120     object\n",
       "Between31_120      object\n",
       "new_emp_length    float64\n",
       "dtype: object"
      ]
     },
     "execution_count": 8,
     "metadata": {},
     "output_type": "execute_result"
    }
   ],
   "source": [
    "df.dtypes"
   ]
  },
  {
   "cell_type": "code",
   "execution_count": 9,
   "id": "1edc5752",
   "metadata": {},
   "outputs": [
    {
     "data": {
      "text/plain": [
       "6109"
      ]
     },
     "execution_count": 9,
     "metadata": {},
     "output_type": "execute_result"
    }
   ],
   "source": [
    "df[\"emp_length\"].isnull().sum()"
   ]
  },
  {
   "cell_type": "code",
   "execution_count": 10,
   "id": "d115a892",
   "metadata": {},
   "outputs": [
    {
     "data": {
      "text/plain": [
       "6109"
      ]
     },
     "execution_count": 10,
     "metadata": {},
     "output_type": "execute_result"
    }
   ],
   "source": [
    "df[\"new_emp_length\"].isnull().sum()"
   ]
  },
  {
   "cell_type": "code",
   "execution_count": 11,
   "id": "7dcc0e08",
   "metadata": {},
   "outputs": [],
   "source": [
    "df1=df.copy()"
   ]
  },
  {
   "cell_type": "code",
   "execution_count": 12,
   "id": "fbaa96ca",
   "metadata": {},
   "outputs": [],
   "source": [
    "df[\"row\"]=1"
   ]
  },
  {
   "cell_type": "code",
   "execution_count": 13,
   "id": "57a95ffe",
   "metadata": {},
   "outputs": [
    {
     "data": {
      "text/html": [
       "<div>\n",
       "<style scoped>\n",
       "    .dataframe tbody tr th:only-of-type {\n",
       "        vertical-align: middle;\n",
       "    }\n",
       "\n",
       "    .dataframe tbody tr th {\n",
       "        vertical-align: top;\n",
       "    }\n",
       "\n",
       "    .dataframe thead th {\n",
       "        text-align: right;\n",
       "    }\n",
       "</style>\n",
       "<table border=\"1\" class=\"dataframe\">\n",
       "  <thead>\n",
       "    <tr style=\"text-align: right;\">\n",
       "      <th></th>\n",
       "      <th>loan_amnt</th>\n",
       "      <th>FICO</th>\n",
       "      <th>dti</th>\n",
       "      <th>emp_length</th>\n",
       "      <th>loan_status</th>\n",
       "      <th>addr_state</th>\n",
       "      <th>accept_d</th>\n",
       "      <th>issue_d</th>\n",
       "      <th>funded_amnt</th>\n",
       "      <th>Accepted</th>\n",
       "      <th>GreaterThan120</th>\n",
       "      <th>Between31_120</th>\n",
       "      <th>new_emp_length</th>\n",
       "      <th>row</th>\n",
       "    </tr>\n",
       "  </thead>\n",
       "  <tbody>\n",
       "    <tr>\n",
       "      <th>0</th>\n",
       "      <td>25000.0</td>\n",
       "      <td>737.0</td>\n",
       "      <td>19.48</td>\n",
       "      <td>&lt; 1 year</td>\n",
       "      <td>Fully Paid</td>\n",
       "      <td>CA</td>\n",
       "      <td>2009-07-26 00:00:00</td>\n",
       "      <td>2009-08-05 00:00:00</td>\n",
       "      <td>25000</td>\n",
       "      <td>Yes</td>\n",
       "      <td>!&gt;120</td>\n",
       "      <td>!31-120</td>\n",
       "      <td>0.5</td>\n",
       "      <td>1</td>\n",
       "    </tr>\n",
       "    <tr>\n",
       "      <th>1</th>\n",
       "      <td>7000.0</td>\n",
       "      <td>707.0</td>\n",
       "      <td>14.29</td>\n",
       "      <td>&lt; 1 year</td>\n",
       "      <td>Fully Paid</td>\n",
       "      <td>NY</td>\n",
       "      <td>2008-05-12 00:00:00</td>\n",
       "      <td>2008-05-27 00:00:00</td>\n",
       "      <td>7000</td>\n",
       "      <td>Yes</td>\n",
       "      <td>!&gt;120</td>\n",
       "      <td>!31-120</td>\n",
       "      <td>0.5</td>\n",
       "      <td>1</td>\n",
       "    </tr>\n",
       "    <tr>\n",
       "      <th>2</th>\n",
       "      <td>1200.0</td>\n",
       "      <td>677.0</td>\n",
       "      <td>5.47</td>\n",
       "      <td>10+ years</td>\n",
       "      <td>Fully Paid</td>\n",
       "      <td>TX</td>\n",
       "      <td>2010-03-11 00:00:00</td>\n",
       "      <td>2010-03-22 00:00:00</td>\n",
       "      <td>1200</td>\n",
       "      <td>Yes</td>\n",
       "      <td>!&gt;120</td>\n",
       "      <td>!31-120</td>\n",
       "      <td>11.0</td>\n",
       "      <td>1</td>\n",
       "    </tr>\n",
       "    <tr>\n",
       "      <th>3</th>\n",
       "      <td>10800.0</td>\n",
       "      <td>682.0</td>\n",
       "      <td>11.63</td>\n",
       "      <td>6 years</td>\n",
       "      <td>Fully Paid</td>\n",
       "      <td>CT</td>\n",
       "      <td>2009-11-04 00:00:00</td>\n",
       "      <td>2009-11-12 00:00:00</td>\n",
       "      <td>10800</td>\n",
       "      <td>Yes</td>\n",
       "      <td>!&gt;120</td>\n",
       "      <td>!31-120</td>\n",
       "      <td>6.0</td>\n",
       "      <td>1</td>\n",
       "    </tr>\n",
       "    <tr>\n",
       "      <th>4</th>\n",
       "      <td>7200.0</td>\n",
       "      <td>662.0</td>\n",
       "      <td>2.05</td>\n",
       "      <td>9 years</td>\n",
       "      <td>Current</td>\n",
       "      <td>RI</td>\n",
       "      <td>2012-08-14 00:00:00</td>\n",
       "      <td>2012-08-21 00:00:00</td>\n",
       "      <td>7200</td>\n",
       "      <td>Yes</td>\n",
       "      <td>!&gt;120</td>\n",
       "      <td>!31-120</td>\n",
       "      <td>9.0</td>\n",
       "      <td>1</td>\n",
       "    </tr>\n",
       "    <tr>\n",
       "      <th>...</th>\n",
       "      <td>...</td>\n",
       "      <td>...</td>\n",
       "      <td>...</td>\n",
       "      <td>...</td>\n",
       "      <td>...</td>\n",
       "      <td>...</td>\n",
       "      <td>...</td>\n",
       "      <td>...</td>\n",
       "      <td>...</td>\n",
       "      <td>...</td>\n",
       "      <td>...</td>\n",
       "      <td>...</td>\n",
       "      <td>...</td>\n",
       "      <td>...</td>\n",
       "    </tr>\n",
       "    <tr>\n",
       "      <th>308633</th>\n",
       "      <td>10000.0</td>\n",
       "      <td>640.0</td>\n",
       "      <td>66.27</td>\n",
       "      <td>&lt; 1 year</td>\n",
       "      <td>Not Available</td>\n",
       "      <td>No information</td>\n",
       "      <td>No information</td>\n",
       "      <td>No information</td>\n",
       "      <td>0</td>\n",
       "      <td>No</td>\n",
       "      <td>!&gt;120</td>\n",
       "      <td>!31-120</td>\n",
       "      <td>0.5</td>\n",
       "      <td>1</td>\n",
       "    </tr>\n",
       "    <tr>\n",
       "      <th>308634</th>\n",
       "      <td>5000.0</td>\n",
       "      <td>624.0</td>\n",
       "      <td>0.94</td>\n",
       "      <td>&lt; 1 year</td>\n",
       "      <td>Not Available</td>\n",
       "      <td>No information</td>\n",
       "      <td>No information</td>\n",
       "      <td>No information</td>\n",
       "      <td>0</td>\n",
       "      <td>No</td>\n",
       "      <td>!&gt;120</td>\n",
       "      <td>!31-120</td>\n",
       "      <td>0.5</td>\n",
       "      <td>1</td>\n",
       "    </tr>\n",
       "    <tr>\n",
       "      <th>308635</th>\n",
       "      <td>20000.0</td>\n",
       "      <td>685.0</td>\n",
       "      <td>45.48</td>\n",
       "      <td>&lt; 1 year</td>\n",
       "      <td>Not Available</td>\n",
       "      <td>No information</td>\n",
       "      <td>No information</td>\n",
       "      <td>No information</td>\n",
       "      <td>0</td>\n",
       "      <td>No</td>\n",
       "      <td>!&gt;120</td>\n",
       "      <td>!31-120</td>\n",
       "      <td>0.5</td>\n",
       "      <td>1</td>\n",
       "    </tr>\n",
       "    <tr>\n",
       "      <th>308636</th>\n",
       "      <td>2800.0</td>\n",
       "      <td>0.0</td>\n",
       "      <td>0.00</td>\n",
       "      <td>&lt; 1 year</td>\n",
       "      <td>Not Available</td>\n",
       "      <td>No information</td>\n",
       "      <td>No information</td>\n",
       "      <td>No information</td>\n",
       "      <td>0</td>\n",
       "      <td>No</td>\n",
       "      <td>!&gt;120</td>\n",
       "      <td>!31-120</td>\n",
       "      <td>0.5</td>\n",
       "      <td>1</td>\n",
       "    </tr>\n",
       "    <tr>\n",
       "      <th>308637</th>\n",
       "      <td>10000.0</td>\n",
       "      <td>701.0</td>\n",
       "      <td>47.88</td>\n",
       "      <td>&lt; 1 year</td>\n",
       "      <td>Not Available</td>\n",
       "      <td>No information</td>\n",
       "      <td>No information</td>\n",
       "      <td>No information</td>\n",
       "      <td>0</td>\n",
       "      <td>No</td>\n",
       "      <td>!&gt;120</td>\n",
       "      <td>!31-120</td>\n",
       "      <td>0.5</td>\n",
       "      <td>1</td>\n",
       "    </tr>\n",
       "  </tbody>\n",
       "</table>\n",
       "<p>308638 rows × 14 columns</p>\n",
       "</div>"
      ],
      "text/plain": [
       "        loan_amnt   FICO    dti emp_length    loan_status      addr_state  \\\n",
       "0         25000.0  737.0  19.48   < 1 year     Fully Paid              CA   \n",
       "1          7000.0  707.0  14.29   < 1 year     Fully Paid              NY   \n",
       "2          1200.0  677.0   5.47  10+ years     Fully Paid              TX   \n",
       "3         10800.0  682.0  11.63    6 years     Fully Paid              CT   \n",
       "4          7200.0  662.0   2.05    9 years        Current              RI   \n",
       "...           ...    ...    ...        ...            ...             ...   \n",
       "308633    10000.0  640.0  66.27   < 1 year  Not Available  No information   \n",
       "308634     5000.0  624.0   0.94   < 1 year  Not Available  No information   \n",
       "308635    20000.0  685.0  45.48   < 1 year  Not Available  No information   \n",
       "308636     2800.0    0.0   0.00   < 1 year  Not Available  No information   \n",
       "308637    10000.0  701.0  47.88   < 1 year  Not Available  No information   \n",
       "\n",
       "                   accept_d              issue_d  funded_amnt Accepted  \\\n",
       "0       2009-07-26 00:00:00  2009-08-05 00:00:00        25000      Yes   \n",
       "1       2008-05-12 00:00:00  2008-05-27 00:00:00         7000      Yes   \n",
       "2       2010-03-11 00:00:00  2010-03-22 00:00:00         1200      Yes   \n",
       "3       2009-11-04 00:00:00  2009-11-12 00:00:00        10800      Yes   \n",
       "4       2012-08-14 00:00:00  2012-08-21 00:00:00         7200      Yes   \n",
       "...                     ...                  ...          ...      ...   \n",
       "308633       No information       No information            0       No   \n",
       "308634       No information       No information            0       No   \n",
       "308635       No information       No information            0       No   \n",
       "308636       No information       No information            0       No   \n",
       "308637       No information       No information            0       No   \n",
       "\n",
       "       GreaterThan120 Between31_120  new_emp_length  row  \n",
       "0               !>120       !31-120             0.5    1  \n",
       "1               !>120       !31-120             0.5    1  \n",
       "2               !>120       !31-120            11.0    1  \n",
       "3               !>120       !31-120             6.0    1  \n",
       "4               !>120       !31-120             9.0    1  \n",
       "...               ...           ...             ...  ...  \n",
       "308633          !>120       !31-120             0.5    1  \n",
       "308634          !>120       !31-120             0.5    1  \n",
       "308635          !>120       !31-120             0.5    1  \n",
       "308636          !>120       !31-120             0.5    1  \n",
       "308637          !>120       !31-120             0.5    1  \n",
       "\n",
       "[308638 rows x 14 columns]"
      ]
     },
     "execution_count": 13,
     "metadata": {},
     "output_type": "execute_result"
    }
   ],
   "source": [
    "df"
   ]
  },
  {
   "cell_type": "code",
   "execution_count": 14,
   "id": "df75ba0f",
   "metadata": {},
   "outputs": [],
   "source": [
    "df[\"new_Accept_d\"]=pd.to_datetime(df[\"accept_d\"],format=\"%Y-%m-%d %H:%M:%S\",errors=\"coerce\")"
   ]
  },
  {
   "cell_type": "code",
   "execution_count": 15,
   "id": "f696acae",
   "metadata": {},
   "outputs": [
    {
     "data": {
      "text/html": [
       "<div>\n",
       "<style scoped>\n",
       "    .dataframe tbody tr th:only-of-type {\n",
       "        vertical-align: middle;\n",
       "    }\n",
       "\n",
       "    .dataframe tbody tr th {\n",
       "        vertical-align: top;\n",
       "    }\n",
       "\n",
       "    .dataframe thead th {\n",
       "        text-align: right;\n",
       "    }\n",
       "</style>\n",
       "<table border=\"1\" class=\"dataframe\">\n",
       "  <thead>\n",
       "    <tr style=\"text-align: right;\">\n",
       "      <th></th>\n",
       "      <th>loan_amnt</th>\n",
       "      <th>FICO</th>\n",
       "      <th>dti</th>\n",
       "      <th>emp_length</th>\n",
       "      <th>loan_status</th>\n",
       "      <th>addr_state</th>\n",
       "      <th>accept_d</th>\n",
       "      <th>issue_d</th>\n",
       "      <th>funded_amnt</th>\n",
       "      <th>Accepted</th>\n",
       "      <th>GreaterThan120</th>\n",
       "      <th>Between31_120</th>\n",
       "      <th>new_emp_length</th>\n",
       "      <th>row</th>\n",
       "      <th>new_Accept_d</th>\n",
       "    </tr>\n",
       "  </thead>\n",
       "  <tbody>\n",
       "    <tr>\n",
       "      <th>0</th>\n",
       "      <td>25000.0</td>\n",
       "      <td>737.0</td>\n",
       "      <td>19.48</td>\n",
       "      <td>&lt; 1 year</td>\n",
       "      <td>Fully Paid</td>\n",
       "      <td>CA</td>\n",
       "      <td>2009-07-26 00:00:00</td>\n",
       "      <td>2009-08-05 00:00:00</td>\n",
       "      <td>25000</td>\n",
       "      <td>Yes</td>\n",
       "      <td>!&gt;120</td>\n",
       "      <td>!31-120</td>\n",
       "      <td>0.5</td>\n",
       "      <td>1</td>\n",
       "      <td>2009-07-26</td>\n",
       "    </tr>\n",
       "    <tr>\n",
       "      <th>1</th>\n",
       "      <td>7000.0</td>\n",
       "      <td>707.0</td>\n",
       "      <td>14.29</td>\n",
       "      <td>&lt; 1 year</td>\n",
       "      <td>Fully Paid</td>\n",
       "      <td>NY</td>\n",
       "      <td>2008-05-12 00:00:00</td>\n",
       "      <td>2008-05-27 00:00:00</td>\n",
       "      <td>7000</td>\n",
       "      <td>Yes</td>\n",
       "      <td>!&gt;120</td>\n",
       "      <td>!31-120</td>\n",
       "      <td>0.5</td>\n",
       "      <td>1</td>\n",
       "      <td>2008-05-12</td>\n",
       "    </tr>\n",
       "    <tr>\n",
       "      <th>2</th>\n",
       "      <td>1200.0</td>\n",
       "      <td>677.0</td>\n",
       "      <td>5.47</td>\n",
       "      <td>10+ years</td>\n",
       "      <td>Fully Paid</td>\n",
       "      <td>TX</td>\n",
       "      <td>2010-03-11 00:00:00</td>\n",
       "      <td>2010-03-22 00:00:00</td>\n",
       "      <td>1200</td>\n",
       "      <td>Yes</td>\n",
       "      <td>!&gt;120</td>\n",
       "      <td>!31-120</td>\n",
       "      <td>11.0</td>\n",
       "      <td>1</td>\n",
       "      <td>2010-03-11</td>\n",
       "    </tr>\n",
       "    <tr>\n",
       "      <th>3</th>\n",
       "      <td>10800.0</td>\n",
       "      <td>682.0</td>\n",
       "      <td>11.63</td>\n",
       "      <td>6 years</td>\n",
       "      <td>Fully Paid</td>\n",
       "      <td>CT</td>\n",
       "      <td>2009-11-04 00:00:00</td>\n",
       "      <td>2009-11-12 00:00:00</td>\n",
       "      <td>10800</td>\n",
       "      <td>Yes</td>\n",
       "      <td>!&gt;120</td>\n",
       "      <td>!31-120</td>\n",
       "      <td>6.0</td>\n",
       "      <td>1</td>\n",
       "      <td>2009-11-04</td>\n",
       "    </tr>\n",
       "    <tr>\n",
       "      <th>4</th>\n",
       "      <td>7200.0</td>\n",
       "      <td>662.0</td>\n",
       "      <td>2.05</td>\n",
       "      <td>9 years</td>\n",
       "      <td>Current</td>\n",
       "      <td>RI</td>\n",
       "      <td>2012-08-14 00:00:00</td>\n",
       "      <td>2012-08-21 00:00:00</td>\n",
       "      <td>7200</td>\n",
       "      <td>Yes</td>\n",
       "      <td>!&gt;120</td>\n",
       "      <td>!31-120</td>\n",
       "      <td>9.0</td>\n",
       "      <td>1</td>\n",
       "      <td>2012-08-14</td>\n",
       "    </tr>\n",
       "  </tbody>\n",
       "</table>\n",
       "</div>"
      ],
      "text/plain": [
       "   loan_amnt   FICO    dti emp_length loan_status addr_state  \\\n",
       "0    25000.0  737.0  19.48   < 1 year  Fully Paid         CA   \n",
       "1     7000.0  707.0  14.29   < 1 year  Fully Paid         NY   \n",
       "2     1200.0  677.0   5.47  10+ years  Fully Paid         TX   \n",
       "3    10800.0  682.0  11.63    6 years  Fully Paid         CT   \n",
       "4     7200.0  662.0   2.05    9 years     Current         RI   \n",
       "\n",
       "              accept_d              issue_d  funded_amnt Accepted  \\\n",
       "0  2009-07-26 00:00:00  2009-08-05 00:00:00        25000      Yes   \n",
       "1  2008-05-12 00:00:00  2008-05-27 00:00:00         7000      Yes   \n",
       "2  2010-03-11 00:00:00  2010-03-22 00:00:00         1200      Yes   \n",
       "3  2009-11-04 00:00:00  2009-11-12 00:00:00        10800      Yes   \n",
       "4  2012-08-14 00:00:00  2012-08-21 00:00:00         7200      Yes   \n",
       "\n",
       "  GreaterThan120 Between31_120  new_emp_length  row new_Accept_d  \n",
       "0          !>120       !31-120             0.5    1   2009-07-26  \n",
       "1          !>120       !31-120             0.5    1   2008-05-12  \n",
       "2          !>120       !31-120            11.0    1   2010-03-11  \n",
       "3          !>120       !31-120             6.0    1   2009-11-04  \n",
       "4          !>120       !31-120             9.0    1   2012-08-14  "
      ]
     },
     "execution_count": 15,
     "metadata": {},
     "output_type": "execute_result"
    }
   ],
   "source": [
    "df.head()"
   ]
  },
  {
   "cell_type": "code",
   "execution_count": 16,
   "id": "0fe8884d",
   "metadata": {},
   "outputs": [],
   "source": [
    "df[\"new_issue_d\"]=pd.to_datetime(df[\"issue_d\"],format=\"%Y-%m-%d %H:%M:%S\",errors=\"coerce\")"
   ]
  },
  {
   "cell_type": "code",
   "execution_count": 17,
   "id": "13e66b87",
   "metadata": {},
   "outputs": [
    {
     "data": {
      "text/html": [
       "<div>\n",
       "<style scoped>\n",
       "    .dataframe tbody tr th:only-of-type {\n",
       "        vertical-align: middle;\n",
       "    }\n",
       "\n",
       "    .dataframe tbody tr th {\n",
       "        vertical-align: top;\n",
       "    }\n",
       "\n",
       "    .dataframe thead th {\n",
       "        text-align: right;\n",
       "    }\n",
       "</style>\n",
       "<table border=\"1\" class=\"dataframe\">\n",
       "  <thead>\n",
       "    <tr style=\"text-align: right;\">\n",
       "      <th></th>\n",
       "      <th>loan_amnt</th>\n",
       "      <th>FICO</th>\n",
       "      <th>dti</th>\n",
       "      <th>emp_length</th>\n",
       "      <th>loan_status</th>\n",
       "      <th>addr_state</th>\n",
       "      <th>accept_d</th>\n",
       "      <th>issue_d</th>\n",
       "      <th>funded_amnt</th>\n",
       "      <th>Accepted</th>\n",
       "      <th>GreaterThan120</th>\n",
       "      <th>Between31_120</th>\n",
       "      <th>new_emp_length</th>\n",
       "      <th>row</th>\n",
       "      <th>new_Accept_d</th>\n",
       "      <th>new_issue_d</th>\n",
       "    </tr>\n",
       "  </thead>\n",
       "  <tbody>\n",
       "    <tr>\n",
       "      <th>0</th>\n",
       "      <td>25000.0</td>\n",
       "      <td>737.0</td>\n",
       "      <td>19.48</td>\n",
       "      <td>&lt; 1 year</td>\n",
       "      <td>Fully Paid</td>\n",
       "      <td>CA</td>\n",
       "      <td>2009-07-26 00:00:00</td>\n",
       "      <td>2009-08-05 00:00:00</td>\n",
       "      <td>25000</td>\n",
       "      <td>Yes</td>\n",
       "      <td>!&gt;120</td>\n",
       "      <td>!31-120</td>\n",
       "      <td>0.5</td>\n",
       "      <td>1</td>\n",
       "      <td>2009-07-26</td>\n",
       "      <td>2009-08-05</td>\n",
       "    </tr>\n",
       "    <tr>\n",
       "      <th>1</th>\n",
       "      <td>7000.0</td>\n",
       "      <td>707.0</td>\n",
       "      <td>14.29</td>\n",
       "      <td>&lt; 1 year</td>\n",
       "      <td>Fully Paid</td>\n",
       "      <td>NY</td>\n",
       "      <td>2008-05-12 00:00:00</td>\n",
       "      <td>2008-05-27 00:00:00</td>\n",
       "      <td>7000</td>\n",
       "      <td>Yes</td>\n",
       "      <td>!&gt;120</td>\n",
       "      <td>!31-120</td>\n",
       "      <td>0.5</td>\n",
       "      <td>1</td>\n",
       "      <td>2008-05-12</td>\n",
       "      <td>2008-05-27</td>\n",
       "    </tr>\n",
       "    <tr>\n",
       "      <th>2</th>\n",
       "      <td>1200.0</td>\n",
       "      <td>677.0</td>\n",
       "      <td>5.47</td>\n",
       "      <td>10+ years</td>\n",
       "      <td>Fully Paid</td>\n",
       "      <td>TX</td>\n",
       "      <td>2010-03-11 00:00:00</td>\n",
       "      <td>2010-03-22 00:00:00</td>\n",
       "      <td>1200</td>\n",
       "      <td>Yes</td>\n",
       "      <td>!&gt;120</td>\n",
       "      <td>!31-120</td>\n",
       "      <td>11.0</td>\n",
       "      <td>1</td>\n",
       "      <td>2010-03-11</td>\n",
       "      <td>2010-03-22</td>\n",
       "    </tr>\n",
       "    <tr>\n",
       "      <th>3</th>\n",
       "      <td>10800.0</td>\n",
       "      <td>682.0</td>\n",
       "      <td>11.63</td>\n",
       "      <td>6 years</td>\n",
       "      <td>Fully Paid</td>\n",
       "      <td>CT</td>\n",
       "      <td>2009-11-04 00:00:00</td>\n",
       "      <td>2009-11-12 00:00:00</td>\n",
       "      <td>10800</td>\n",
       "      <td>Yes</td>\n",
       "      <td>!&gt;120</td>\n",
       "      <td>!31-120</td>\n",
       "      <td>6.0</td>\n",
       "      <td>1</td>\n",
       "      <td>2009-11-04</td>\n",
       "      <td>2009-11-12</td>\n",
       "    </tr>\n",
       "    <tr>\n",
       "      <th>4</th>\n",
       "      <td>7200.0</td>\n",
       "      <td>662.0</td>\n",
       "      <td>2.05</td>\n",
       "      <td>9 years</td>\n",
       "      <td>Current</td>\n",
       "      <td>RI</td>\n",
       "      <td>2012-08-14 00:00:00</td>\n",
       "      <td>2012-08-21 00:00:00</td>\n",
       "      <td>7200</td>\n",
       "      <td>Yes</td>\n",
       "      <td>!&gt;120</td>\n",
       "      <td>!31-120</td>\n",
       "      <td>9.0</td>\n",
       "      <td>1</td>\n",
       "      <td>2012-08-14</td>\n",
       "      <td>2012-08-21</td>\n",
       "    </tr>\n",
       "  </tbody>\n",
       "</table>\n",
       "</div>"
      ],
      "text/plain": [
       "   loan_amnt   FICO    dti emp_length loan_status addr_state  \\\n",
       "0    25000.0  737.0  19.48   < 1 year  Fully Paid         CA   \n",
       "1     7000.0  707.0  14.29   < 1 year  Fully Paid         NY   \n",
       "2     1200.0  677.0   5.47  10+ years  Fully Paid         TX   \n",
       "3    10800.0  682.0  11.63    6 years  Fully Paid         CT   \n",
       "4     7200.0  662.0   2.05    9 years     Current         RI   \n",
       "\n",
       "              accept_d              issue_d  funded_amnt Accepted  \\\n",
       "0  2009-07-26 00:00:00  2009-08-05 00:00:00        25000      Yes   \n",
       "1  2008-05-12 00:00:00  2008-05-27 00:00:00         7000      Yes   \n",
       "2  2010-03-11 00:00:00  2010-03-22 00:00:00         1200      Yes   \n",
       "3  2009-11-04 00:00:00  2009-11-12 00:00:00        10800      Yes   \n",
       "4  2012-08-14 00:00:00  2012-08-21 00:00:00         7200      Yes   \n",
       "\n",
       "  GreaterThan120 Between31_120  new_emp_length  row new_Accept_d new_issue_d  \n",
       "0          !>120       !31-120             0.5    1   2009-07-26  2009-08-05  \n",
       "1          !>120       !31-120             0.5    1   2008-05-12  2008-05-27  \n",
       "2          !>120       !31-120            11.0    1   2010-03-11  2010-03-22  \n",
       "3          !>120       !31-120             6.0    1   2009-11-04  2009-11-12  \n",
       "4          !>120       !31-120             9.0    1   2012-08-14  2012-08-21  "
      ]
     },
     "execution_count": 17,
     "metadata": {},
     "output_type": "execute_result"
    }
   ],
   "source": [
    "df.head()"
   ]
  },
  {
   "cell_type": "code",
   "execution_count": 18,
   "id": "f3694b47",
   "metadata": {},
   "outputs": [],
   "source": [
    "del df[\"accept_d\"]"
   ]
  },
  {
   "cell_type": "code",
   "execution_count": 19,
   "id": "b0ffd633",
   "metadata": {},
   "outputs": [],
   "source": [
    "del df[\"issue_d\"]"
   ]
  },
  {
   "cell_type": "code",
   "execution_count": 20,
   "id": "991a1519",
   "metadata": {},
   "outputs": [
    {
     "data": {
      "text/html": [
       "<div>\n",
       "<style scoped>\n",
       "    .dataframe tbody tr th:only-of-type {\n",
       "        vertical-align: middle;\n",
       "    }\n",
       "\n",
       "    .dataframe tbody tr th {\n",
       "        vertical-align: top;\n",
       "    }\n",
       "\n",
       "    .dataframe thead th {\n",
       "        text-align: right;\n",
       "    }\n",
       "</style>\n",
       "<table border=\"1\" class=\"dataframe\">\n",
       "  <thead>\n",
       "    <tr style=\"text-align: right;\">\n",
       "      <th></th>\n",
       "      <th>loan_amnt</th>\n",
       "      <th>FICO</th>\n",
       "      <th>dti</th>\n",
       "      <th>emp_length</th>\n",
       "      <th>loan_status</th>\n",
       "      <th>addr_state</th>\n",
       "      <th>funded_amnt</th>\n",
       "      <th>Accepted</th>\n",
       "      <th>GreaterThan120</th>\n",
       "      <th>Between31_120</th>\n",
       "      <th>new_emp_length</th>\n",
       "      <th>row</th>\n",
       "      <th>new_Accept_d</th>\n",
       "      <th>new_issue_d</th>\n",
       "    </tr>\n",
       "  </thead>\n",
       "  <tbody>\n",
       "    <tr>\n",
       "      <th>0</th>\n",
       "      <td>25000.0</td>\n",
       "      <td>737.0</td>\n",
       "      <td>19.48</td>\n",
       "      <td>&lt; 1 year</td>\n",
       "      <td>Fully Paid</td>\n",
       "      <td>CA</td>\n",
       "      <td>25000</td>\n",
       "      <td>Yes</td>\n",
       "      <td>!&gt;120</td>\n",
       "      <td>!31-120</td>\n",
       "      <td>0.5</td>\n",
       "      <td>1</td>\n",
       "      <td>2009-07-26</td>\n",
       "      <td>2009-08-05</td>\n",
       "    </tr>\n",
       "    <tr>\n",
       "      <th>1</th>\n",
       "      <td>7000.0</td>\n",
       "      <td>707.0</td>\n",
       "      <td>14.29</td>\n",
       "      <td>&lt; 1 year</td>\n",
       "      <td>Fully Paid</td>\n",
       "      <td>NY</td>\n",
       "      <td>7000</td>\n",
       "      <td>Yes</td>\n",
       "      <td>!&gt;120</td>\n",
       "      <td>!31-120</td>\n",
       "      <td>0.5</td>\n",
       "      <td>1</td>\n",
       "      <td>2008-05-12</td>\n",
       "      <td>2008-05-27</td>\n",
       "    </tr>\n",
       "    <tr>\n",
       "      <th>2</th>\n",
       "      <td>1200.0</td>\n",
       "      <td>677.0</td>\n",
       "      <td>5.47</td>\n",
       "      <td>10+ years</td>\n",
       "      <td>Fully Paid</td>\n",
       "      <td>TX</td>\n",
       "      <td>1200</td>\n",
       "      <td>Yes</td>\n",
       "      <td>!&gt;120</td>\n",
       "      <td>!31-120</td>\n",
       "      <td>11.0</td>\n",
       "      <td>1</td>\n",
       "      <td>2010-03-11</td>\n",
       "      <td>2010-03-22</td>\n",
       "    </tr>\n",
       "    <tr>\n",
       "      <th>3</th>\n",
       "      <td>10800.0</td>\n",
       "      <td>682.0</td>\n",
       "      <td>11.63</td>\n",
       "      <td>6 years</td>\n",
       "      <td>Fully Paid</td>\n",
       "      <td>CT</td>\n",
       "      <td>10800</td>\n",
       "      <td>Yes</td>\n",
       "      <td>!&gt;120</td>\n",
       "      <td>!31-120</td>\n",
       "      <td>6.0</td>\n",
       "      <td>1</td>\n",
       "      <td>2009-11-04</td>\n",
       "      <td>2009-11-12</td>\n",
       "    </tr>\n",
       "    <tr>\n",
       "      <th>4</th>\n",
       "      <td>7200.0</td>\n",
       "      <td>662.0</td>\n",
       "      <td>2.05</td>\n",
       "      <td>9 years</td>\n",
       "      <td>Current</td>\n",
       "      <td>RI</td>\n",
       "      <td>7200</td>\n",
       "      <td>Yes</td>\n",
       "      <td>!&gt;120</td>\n",
       "      <td>!31-120</td>\n",
       "      <td>9.0</td>\n",
       "      <td>1</td>\n",
       "      <td>2012-08-14</td>\n",
       "      <td>2012-08-21</td>\n",
       "    </tr>\n",
       "  </tbody>\n",
       "</table>\n",
       "</div>"
      ],
      "text/plain": [
       "   loan_amnt   FICO    dti emp_length loan_status addr_state  funded_amnt  \\\n",
       "0    25000.0  737.0  19.48   < 1 year  Fully Paid         CA        25000   \n",
       "1     7000.0  707.0  14.29   < 1 year  Fully Paid         NY         7000   \n",
       "2     1200.0  677.0   5.47  10+ years  Fully Paid         TX         1200   \n",
       "3    10800.0  682.0  11.63    6 years  Fully Paid         CT        10800   \n",
       "4     7200.0  662.0   2.05    9 years     Current         RI         7200   \n",
       "\n",
       "  Accepted GreaterThan120 Between31_120  new_emp_length  row new_Accept_d  \\\n",
       "0      Yes          !>120       !31-120             0.5    1   2009-07-26   \n",
       "1      Yes          !>120       !31-120             0.5    1   2008-05-12   \n",
       "2      Yes          !>120       !31-120            11.0    1   2010-03-11   \n",
       "3      Yes          !>120       !31-120             6.0    1   2009-11-04   \n",
       "4      Yes          !>120       !31-120             9.0    1   2012-08-14   \n",
       "\n",
       "  new_issue_d  \n",
       "0  2009-08-05  \n",
       "1  2008-05-27  \n",
       "2  2010-03-22  \n",
       "3  2009-11-12  \n",
       "4  2012-08-21  "
      ]
     },
     "execution_count": 20,
     "metadata": {},
     "output_type": "execute_result"
    }
   ],
   "source": [
    "df.head()"
   ]
  },
  {
   "cell_type": "code",
   "execution_count": 21,
   "id": "256b35cf",
   "metadata": {},
   "outputs": [],
   "source": [
    "del df[\"row\"]"
   ]
  },
  {
   "cell_type": "code",
   "execution_count": 22,
   "id": "ffe6743c",
   "metadata": {},
   "outputs": [
    {
     "data": {
      "text/plain": [
       "array(['!>120', '>120'], dtype=object)"
      ]
     },
     "execution_count": 22,
     "metadata": {},
     "output_type": "execute_result"
    }
   ],
   "source": [
    "df[\"GreaterThan120\"].unique()"
   ]
  },
  {
   "cell_type": "code",
   "execution_count": 23,
   "id": "f4874f45",
   "metadata": {},
   "outputs": [],
   "source": [
    "df[\"new_greaterthan120\"]=df[\"GreaterThan120\"].replace(['!>120', '>120'],['0','1'])"
   ]
  },
  {
   "cell_type": "code",
   "execution_count": 24,
   "id": "6a396f6a",
   "metadata": {},
   "outputs": [],
   "source": [
    "del df[\"GreaterThan120\"]"
   ]
  },
  {
   "cell_type": "code",
   "execution_count": 25,
   "id": "5d342c4e",
   "metadata": {},
   "outputs": [],
   "source": [
    "df[\"new_Between31_120\"]=df[\"Between31_120\"].replace(['!31-120', '31-120'],['0','1'])"
   ]
  },
  {
   "cell_type": "code",
   "execution_count": 26,
   "id": "8959da95",
   "metadata": {},
   "outputs": [
    {
     "data": {
      "text/plain": [
       "array(['!31-120', '31-120'], dtype=object)"
      ]
     },
     "execution_count": 26,
     "metadata": {},
     "output_type": "execute_result"
    }
   ],
   "source": [
    "df[\"Between31_120\"].unique()"
   ]
  },
  {
   "cell_type": "code",
   "execution_count": 27,
   "id": "6a7f5a01",
   "metadata": {},
   "outputs": [],
   "source": [
    "del df[\"Between31_120\"]"
   ]
  },
  {
   "cell_type": "code",
   "execution_count": 28,
   "id": "4c0bee40",
   "metadata": {},
   "outputs": [],
   "source": [
    "df.to_csv(\"new_Dataset\")"
   ]
  },
  {
   "cell_type": "code",
   "execution_count": 39,
   "id": "e1d50551",
   "metadata": {},
   "outputs": [
    {
     "data": {
      "text/html": [
       "<div>\n",
       "<style scoped>\n",
       "    .dataframe tbody tr th:only-of-type {\n",
       "        vertical-align: middle;\n",
       "    }\n",
       "\n",
       "    .dataframe tbody tr th {\n",
       "        vertical-align: top;\n",
       "    }\n",
       "\n",
       "    .dataframe thead th {\n",
       "        text-align: right;\n",
       "    }\n",
       "</style>\n",
       "<table border=\"1\" class=\"dataframe\">\n",
       "  <thead>\n",
       "    <tr style=\"text-align: right;\">\n",
       "      <th></th>\n",
       "      <th>loan_amnt</th>\n",
       "      <th>FICO</th>\n",
       "      <th>dti</th>\n",
       "      <th>loan_status</th>\n",
       "      <th>addr_state</th>\n",
       "      <th>funded_amnt</th>\n",
       "      <th>Accepted</th>\n",
       "      <th>new_emp_length</th>\n",
       "      <th>new_Accept_d</th>\n",
       "      <th>new_issue_d</th>\n",
       "      <th>new_greaterthan120</th>\n",
       "      <th>new_Between31_120</th>\n",
       "      <th>new_accepted</th>\n",
       "    </tr>\n",
       "  </thead>\n",
       "  <tbody>\n",
       "    <tr>\n",
       "      <th>0</th>\n",
       "      <td>25000.0</td>\n",
       "      <td>737.0</td>\n",
       "      <td>19.48</td>\n",
       "      <td>Fully Paid</td>\n",
       "      <td>CA</td>\n",
       "      <td>25000</td>\n",
       "      <td>Yes</td>\n",
       "      <td>0.5</td>\n",
       "      <td>2009-07-26</td>\n",
       "      <td>2009-08-05</td>\n",
       "      <td>0</td>\n",
       "      <td>0</td>\n",
       "      <td>1</td>\n",
       "    </tr>\n",
       "    <tr>\n",
       "      <th>1</th>\n",
       "      <td>7000.0</td>\n",
       "      <td>707.0</td>\n",
       "      <td>14.29</td>\n",
       "      <td>Fully Paid</td>\n",
       "      <td>NY</td>\n",
       "      <td>7000</td>\n",
       "      <td>Yes</td>\n",
       "      <td>0.5</td>\n",
       "      <td>2008-05-12</td>\n",
       "      <td>2008-05-27</td>\n",
       "      <td>0</td>\n",
       "      <td>0</td>\n",
       "      <td>1</td>\n",
       "    </tr>\n",
       "    <tr>\n",
       "      <th>2</th>\n",
       "      <td>1200.0</td>\n",
       "      <td>677.0</td>\n",
       "      <td>5.47</td>\n",
       "      <td>Fully Paid</td>\n",
       "      <td>TX</td>\n",
       "      <td>1200</td>\n",
       "      <td>Yes</td>\n",
       "      <td>11.0</td>\n",
       "      <td>2010-03-11</td>\n",
       "      <td>2010-03-22</td>\n",
       "      <td>0</td>\n",
       "      <td>0</td>\n",
       "      <td>1</td>\n",
       "    </tr>\n",
       "    <tr>\n",
       "      <th>3</th>\n",
       "      <td>10800.0</td>\n",
       "      <td>682.0</td>\n",
       "      <td>11.63</td>\n",
       "      <td>Fully Paid</td>\n",
       "      <td>CT</td>\n",
       "      <td>10800</td>\n",
       "      <td>Yes</td>\n",
       "      <td>6.0</td>\n",
       "      <td>2009-11-04</td>\n",
       "      <td>2009-11-12</td>\n",
       "      <td>0</td>\n",
       "      <td>0</td>\n",
       "      <td>1</td>\n",
       "    </tr>\n",
       "    <tr>\n",
       "      <th>4</th>\n",
       "      <td>7200.0</td>\n",
       "      <td>662.0</td>\n",
       "      <td>2.05</td>\n",
       "      <td>Current</td>\n",
       "      <td>RI</td>\n",
       "      <td>7200</td>\n",
       "      <td>Yes</td>\n",
       "      <td>9.0</td>\n",
       "      <td>2012-08-14</td>\n",
       "      <td>2012-08-21</td>\n",
       "      <td>0</td>\n",
       "      <td>0</td>\n",
       "      <td>1</td>\n",
       "    </tr>\n",
       "  </tbody>\n",
       "</table>\n",
       "</div>"
      ],
      "text/plain": [
       "   loan_amnt   FICO    dti loan_status addr_state  funded_amnt Accepted  \\\n",
       "0    25000.0  737.0  19.48  Fully Paid         CA        25000      Yes   \n",
       "1     7000.0  707.0  14.29  Fully Paid         NY         7000      Yes   \n",
       "2     1200.0  677.0   5.47  Fully Paid         TX         1200      Yes   \n",
       "3    10800.0  682.0  11.63  Fully Paid         CT        10800      Yes   \n",
       "4     7200.0  662.0   2.05     Current         RI         7200      Yes   \n",
       "\n",
       "   new_emp_length new_Accept_d new_issue_d new_greaterthan120  \\\n",
       "0             0.5   2009-07-26  2009-08-05                  0   \n",
       "1             0.5   2008-05-12  2008-05-27                  0   \n",
       "2            11.0   2010-03-11  2010-03-22                  0   \n",
       "3             6.0   2009-11-04  2009-11-12                  0   \n",
       "4             9.0   2012-08-14  2012-08-21                  0   \n",
       "\n",
       "  new_Between31_120  new_accepted  \n",
       "0                 0             1  \n",
       "1                 0             1  \n",
       "2                 0             1  \n",
       "3                 0             1  \n",
       "4                 0             1  "
      ]
     },
     "execution_count": 39,
     "metadata": {},
     "output_type": "execute_result"
    }
   ],
   "source": [
    "df.head()"
   ]
  },
  {
   "cell_type": "code",
   "execution_count": 36,
   "id": "a239baca",
   "metadata": {},
   "outputs": [],
   "source": [
    "df[\"new_accepted\"]=df[\"Accepted\"].replace([\"Yes\",\"No\"],[1,0])"
   ]
  },
  {
   "cell_type": "code",
   "execution_count": 40,
   "id": "a4983746",
   "metadata": {},
   "outputs": [
    {
     "data": {
      "text/plain": [
       "3703656"
      ]
     },
     "execution_count": 40,
     "metadata": {},
     "output_type": "execute_result"
    }
   ],
   "source": [
    "data.shape[0]*data.shape[1]"
   ]
  },
  {
   "cell_type": "code",
   "execution_count": 51,
   "id": "d0c56776",
   "metadata": {},
   "outputs": [
    {
     "data": {
      "text/plain": [
       "728553"
      ]
     },
     "execution_count": 51,
     "metadata": {},
     "output_type": "execute_result"
    }
   ],
   "source": [
    "nullvalues=df.isnull().sum().sum()\n",
    "nullvalues"
   ]
  },
  {
   "cell_type": "code",
   "execution_count": 52,
   "id": "62aa1017",
   "metadata": {},
   "outputs": [],
   "source": [
    "null_values_percentage=nullvalues/(data.shape[0]*data.shape[1]) * 100"
   ]
  },
  {
   "cell_type": "code",
   "execution_count": 53,
   "id": "9b8a2d6d",
   "metadata": {},
   "outputs": [
    {
     "data": {
      "text/plain": [
       "19.67"
      ]
     },
     "execution_count": 53,
     "metadata": {},
     "output_type": "execute_result"
    }
   ],
   "source": [
    "null_values_percentage.round(2)"
   ]
  },
  {
   "cell_type": "code",
   "execution_count": 48,
   "id": "2fa05712",
   "metadata": {},
   "outputs": [],
   "source": [
    "del df['loan_status']"
   ]
  },
  {
   "cell_type": "code",
   "execution_count": 50,
   "id": "e674dce8",
   "metadata": {},
   "outputs": [],
   "source": [
    "del df['addr_state']"
   ]
  },
  {
   "cell_type": "code",
   "execution_count": 86,
   "id": "d6b05e38",
   "metadata": {},
   "outputs": [
    {
     "data": {
      "text/html": [
       "<div>\n",
       "<style scoped>\n",
       "    .dataframe tbody tr th:only-of-type {\n",
       "        vertical-align: middle;\n",
       "    }\n",
       "\n",
       "    .dataframe tbody tr th {\n",
       "        vertical-align: top;\n",
       "    }\n",
       "\n",
       "    .dataframe thead th {\n",
       "        text-align: right;\n",
       "    }\n",
       "</style>\n",
       "<table border=\"1\" class=\"dataframe\">\n",
       "  <thead>\n",
       "    <tr style=\"text-align: right;\">\n",
       "      <th></th>\n",
       "      <th>loan_amnt</th>\n",
       "      <th>FICO</th>\n",
       "      <th>dti</th>\n",
       "      <th>loan_status</th>\n",
       "      <th>addr_state</th>\n",
       "      <th>funded_amnt</th>\n",
       "      <th>Accepted</th>\n",
       "      <th>new_emp_length</th>\n",
       "      <th>new_Accept_d</th>\n",
       "      <th>new_issue_d</th>\n",
       "      <th>new_greaterthan120</th>\n",
       "      <th>new_Between31_120</th>\n",
       "      <th>new_accepted</th>\n",
       "    </tr>\n",
       "  </thead>\n",
       "  <tbody>\n",
       "    <tr>\n",
       "      <th>0</th>\n",
       "      <td>25000.0</td>\n",
       "      <td>737.0</td>\n",
       "      <td>19.48</td>\n",
       "      <td>Fully Paid</td>\n",
       "      <td>CA</td>\n",
       "      <td>25000</td>\n",
       "      <td>Yes</td>\n",
       "      <td>0.5</td>\n",
       "      <td>2009-07-26</td>\n",
       "      <td>2009-08-05</td>\n",
       "      <td>0</td>\n",
       "      <td>0</td>\n",
       "      <td>1</td>\n",
       "    </tr>\n",
       "    <tr>\n",
       "      <th>1</th>\n",
       "      <td>7000.0</td>\n",
       "      <td>707.0</td>\n",
       "      <td>14.29</td>\n",
       "      <td>Fully Paid</td>\n",
       "      <td>NY</td>\n",
       "      <td>7000</td>\n",
       "      <td>Yes</td>\n",
       "      <td>0.5</td>\n",
       "      <td>2008-05-12</td>\n",
       "      <td>2008-05-27</td>\n",
       "      <td>0</td>\n",
       "      <td>0</td>\n",
       "      <td>1</td>\n",
       "    </tr>\n",
       "    <tr>\n",
       "      <th>2</th>\n",
       "      <td>1200.0</td>\n",
       "      <td>677.0</td>\n",
       "      <td>5.47</td>\n",
       "      <td>Fully Paid</td>\n",
       "      <td>TX</td>\n",
       "      <td>1200</td>\n",
       "      <td>Yes</td>\n",
       "      <td>11.0</td>\n",
       "      <td>2010-03-11</td>\n",
       "      <td>2010-03-22</td>\n",
       "      <td>0</td>\n",
       "      <td>0</td>\n",
       "      <td>1</td>\n",
       "    </tr>\n",
       "    <tr>\n",
       "      <th>3</th>\n",
       "      <td>10800.0</td>\n",
       "      <td>682.0</td>\n",
       "      <td>11.63</td>\n",
       "      <td>Fully Paid</td>\n",
       "      <td>CT</td>\n",
       "      <td>10800</td>\n",
       "      <td>Yes</td>\n",
       "      <td>6.0</td>\n",
       "      <td>2009-11-04</td>\n",
       "      <td>2009-11-12</td>\n",
       "      <td>0</td>\n",
       "      <td>0</td>\n",
       "      <td>1</td>\n",
       "    </tr>\n",
       "    <tr>\n",
       "      <th>4</th>\n",
       "      <td>7200.0</td>\n",
       "      <td>662.0</td>\n",
       "      <td>2.05</td>\n",
       "      <td>Current</td>\n",
       "      <td>RI</td>\n",
       "      <td>7200</td>\n",
       "      <td>Yes</td>\n",
       "      <td>9.0</td>\n",
       "      <td>2012-08-14</td>\n",
       "      <td>2012-08-21</td>\n",
       "      <td>0</td>\n",
       "      <td>0</td>\n",
       "      <td>1</td>\n",
       "    </tr>\n",
       "  </tbody>\n",
       "</table>\n",
       "</div>"
      ],
      "text/plain": [
       "   loan_amnt   FICO    dti loan_status addr_state  funded_amnt Accepted  \\\n",
       "0    25000.0  737.0  19.48  Fully Paid         CA        25000      Yes   \n",
       "1     7000.0  707.0  14.29  Fully Paid         NY         7000      Yes   \n",
       "2     1200.0  677.0   5.47  Fully Paid         TX         1200      Yes   \n",
       "3    10800.0  682.0  11.63  Fully Paid         CT        10800      Yes   \n",
       "4     7200.0  662.0   2.05     Current         RI         7200      Yes   \n",
       "\n",
       "   new_emp_length new_Accept_d new_issue_d  new_greaterthan120  \\\n",
       "0             0.5   2009-07-26  2009-08-05                   0   \n",
       "1             0.5   2008-05-12  2008-05-27                   0   \n",
       "2            11.0   2010-03-11  2010-03-22                   0   \n",
       "3             6.0   2009-11-04  2009-11-12                   0   \n",
       "4             9.0   2012-08-14  2012-08-21                   0   \n",
       "\n",
       "   new_Between31_120  new_accepted  \n",
       "0                  0             1  \n",
       "1                  0             1  \n",
       "2                  0             1  \n",
       "3                  0             1  \n",
       "4                  0             1  "
      ]
     },
     "execution_count": 86,
     "metadata": {},
     "output_type": "execute_result"
    }
   ],
   "source": [
    "df.head()"
   ]
  },
  {
   "cell_type": "code",
   "execution_count": 44,
   "id": "d6c0b4ef",
   "metadata": {},
   "outputs": [],
   "source": [
    "df[\"new_addr_state\"]=df[\"addr_state\"].replace(\"No information\",np.NaN)"
   ]
  },
  {
   "cell_type": "code",
   "execution_count": 54,
   "id": "39b489f8",
   "metadata": {},
   "outputs": [
    {
     "data": {
      "text/plain": [
       "loan_amnt             False\n",
       "FICO                  False\n",
       "dti                   False\n",
       "funded_amnt           False\n",
       "Accepted              False\n",
       "new_emp_length         True\n",
       "new_Accept_d           True\n",
       "new_issue_d            True\n",
       "new_greaterthan120    False\n",
       "new_Between31_120     False\n",
       "new_accepted          False\n",
       "new_addr_state         True\n",
       "new_loan_status        True\n",
       "dtype: bool"
      ]
     },
     "execution_count": 54,
     "metadata": {},
     "output_type": "execute_result"
    }
   ],
   "source": [
    "df.isnull().any()"
   ]
  },
  {
   "cell_type": "code",
   "execution_count": 89,
   "id": "fac3893d",
   "metadata": {},
   "outputs": [],
   "source": []
  },
  {
   "cell_type": "code",
   "execution_count": 90,
   "id": "de92f7ac",
   "metadata": {},
   "outputs": [
    {
     "data": {
      "text/plain": [
       "array(['Fully Paid', 'Current', 'Charged Off', 'Late (31-120 days)',\n",
       "       'Default', 'In Grace Period', 'Late (16-30 days)', 'Issued',\n",
       "       'Does not meet the current credit policy.  Status:Fully Paid',\n",
       "       'Does not meet the current credit policy.  Status:Charged Off',\n",
       "       'Does not meet the current credit policy.  Status:Current',\n",
       "       'Does not meet the current credit policy.  Status:Late (31-120 days)',\n",
       "       'Does not meet the current credit policy.  Status:In Grace Period',\n",
       "       'Does not meet the current credit policy.  Status:Late (16-30 days)',\n",
       "       'Not Available'], dtype=object)"
      ]
     },
     "execution_count": 90,
     "metadata": {},
     "output_type": "execute_result"
    }
   ],
   "source": [
    "df[\"loan_status\"].unique()"
   ]
  },
  {
   "cell_type": "code",
   "execution_count": 45,
   "id": "71a40c21",
   "metadata": {},
   "outputs": [],
   "source": [
    "df[\"new_loan_status\"]=df[\"loan_status\"].replace(\"Not Available\",np.NaN)"
   ]
  },
  {
   "cell_type": "code",
   "execution_count": 92,
   "id": "94f60c7c",
   "metadata": {},
   "outputs": [],
   "source": [
    "del df[\"loan_status\"]"
   ]
  },
  {
   "cell_type": "code",
   "execution_count": 55,
   "id": "1bca9767",
   "metadata": {},
   "outputs": [
    {
     "data": {
      "text/plain": [
       "array(['Yes', 'No'], dtype=object)"
      ]
     },
     "execution_count": 55,
     "metadata": {},
     "output_type": "execute_result"
    }
   ],
   "source": [
    "df[\"Accepted\"].unique()"
   ]
  },
  {
   "cell_type": "code",
   "execution_count": null,
   "id": "9fbf8641",
   "metadata": {},
   "outputs": [],
   "source": [
    "# Replacing Null Values "
   ]
  },
  {
   "cell_type": "code",
   "execution_count": 61,
   "id": "28a7e466",
   "metadata": {},
   "outputs": [
    {
     "data": {
      "text/html": [
       "<div>\n",
       "<style scoped>\n",
       "    .dataframe tbody tr th:only-of-type {\n",
       "        vertical-align: middle;\n",
       "    }\n",
       "\n",
       "    .dataframe tbody tr th {\n",
       "        vertical-align: top;\n",
       "    }\n",
       "\n",
       "    .dataframe thead th {\n",
       "        text-align: right;\n",
       "    }\n",
       "</style>\n",
       "<table border=\"1\" class=\"dataframe\">\n",
       "  <thead>\n",
       "    <tr style=\"text-align: right;\">\n",
       "      <th></th>\n",
       "      <th>loan_amnt</th>\n",
       "      <th>FICO</th>\n",
       "      <th>dti</th>\n",
       "      <th>funded_amnt</th>\n",
       "      <th>Accepted</th>\n",
       "      <th>new_emp_length</th>\n",
       "      <th>new_Accept_d</th>\n",
       "      <th>new_issue_d</th>\n",
       "      <th>new_greaterthan120</th>\n",
       "      <th>new_Between31_120</th>\n",
       "      <th>new_accepted</th>\n",
       "      <th>new_addr_state</th>\n",
       "      <th>new_loan_status</th>\n",
       "    </tr>\n",
       "  </thead>\n",
       "  <tbody>\n",
       "    <tr>\n",
       "      <th>128027</th>\n",
       "      <td>20000.0</td>\n",
       "      <td>663.0</td>\n",
       "      <td>26.07</td>\n",
       "      <td>0</td>\n",
       "      <td>No</td>\n",
       "      <td>0.5</td>\n",
       "      <td>NaT</td>\n",
       "      <td>NaT</td>\n",
       "      <td>0</td>\n",
       "      <td>0</td>\n",
       "      <td>0</td>\n",
       "      <td>NaN</td>\n",
       "      <td>NaN</td>\n",
       "    </tr>\n",
       "    <tr>\n",
       "      <th>128028</th>\n",
       "      <td>10500.0</td>\n",
       "      <td>652.0</td>\n",
       "      <td>22.14</td>\n",
       "      <td>0</td>\n",
       "      <td>No</td>\n",
       "      <td>0.5</td>\n",
       "      <td>NaT</td>\n",
       "      <td>NaT</td>\n",
       "      <td>0</td>\n",
       "      <td>0</td>\n",
       "      <td>0</td>\n",
       "      <td>NaN</td>\n",
       "      <td>NaN</td>\n",
       "    </tr>\n",
       "    <tr>\n",
       "      <th>128029</th>\n",
       "      <td>18000.0</td>\n",
       "      <td>684.0</td>\n",
       "      <td>45.57</td>\n",
       "      <td>0</td>\n",
       "      <td>No</td>\n",
       "      <td>0.5</td>\n",
       "      <td>NaT</td>\n",
       "      <td>NaT</td>\n",
       "      <td>0</td>\n",
       "      <td>0</td>\n",
       "      <td>0</td>\n",
       "      <td>NaN</td>\n",
       "      <td>NaN</td>\n",
       "    </tr>\n",
       "    <tr>\n",
       "      <th>128030</th>\n",
       "      <td>5000.0</td>\n",
       "      <td>585.0</td>\n",
       "      <td>12.63</td>\n",
       "      <td>0</td>\n",
       "      <td>No</td>\n",
       "      <td>0.5</td>\n",
       "      <td>NaT</td>\n",
       "      <td>NaT</td>\n",
       "      <td>0</td>\n",
       "      <td>0</td>\n",
       "      <td>0</td>\n",
       "      <td>NaN</td>\n",
       "      <td>NaN</td>\n",
       "    </tr>\n",
       "    <tr>\n",
       "      <th>128031</th>\n",
       "      <td>6500.0</td>\n",
       "      <td>591.0</td>\n",
       "      <td>2.40</td>\n",
       "      <td>0</td>\n",
       "      <td>No</td>\n",
       "      <td>0.5</td>\n",
       "      <td>NaT</td>\n",
       "      <td>NaT</td>\n",
       "      <td>0</td>\n",
       "      <td>0</td>\n",
       "      <td>0</td>\n",
       "      <td>NaN</td>\n",
       "      <td>NaN</td>\n",
       "    </tr>\n",
       "    <tr>\n",
       "      <th>...</th>\n",
       "      <td>...</td>\n",
       "      <td>...</td>\n",
       "      <td>...</td>\n",
       "      <td>...</td>\n",
       "      <td>...</td>\n",
       "      <td>...</td>\n",
       "      <td>...</td>\n",
       "      <td>...</td>\n",
       "      <td>...</td>\n",
       "      <td>...</td>\n",
       "      <td>...</td>\n",
       "      <td>...</td>\n",
       "      <td>...</td>\n",
       "    </tr>\n",
       "    <tr>\n",
       "      <th>308633</th>\n",
       "      <td>10000.0</td>\n",
       "      <td>640.0</td>\n",
       "      <td>66.27</td>\n",
       "      <td>0</td>\n",
       "      <td>No</td>\n",
       "      <td>0.5</td>\n",
       "      <td>NaT</td>\n",
       "      <td>NaT</td>\n",
       "      <td>0</td>\n",
       "      <td>0</td>\n",
       "      <td>0</td>\n",
       "      <td>NaN</td>\n",
       "      <td>NaN</td>\n",
       "    </tr>\n",
       "    <tr>\n",
       "      <th>308634</th>\n",
       "      <td>5000.0</td>\n",
       "      <td>624.0</td>\n",
       "      <td>0.94</td>\n",
       "      <td>0</td>\n",
       "      <td>No</td>\n",
       "      <td>0.5</td>\n",
       "      <td>NaT</td>\n",
       "      <td>NaT</td>\n",
       "      <td>0</td>\n",
       "      <td>0</td>\n",
       "      <td>0</td>\n",
       "      <td>NaN</td>\n",
       "      <td>NaN</td>\n",
       "    </tr>\n",
       "    <tr>\n",
       "      <th>308635</th>\n",
       "      <td>20000.0</td>\n",
       "      <td>685.0</td>\n",
       "      <td>45.48</td>\n",
       "      <td>0</td>\n",
       "      <td>No</td>\n",
       "      <td>0.5</td>\n",
       "      <td>NaT</td>\n",
       "      <td>NaT</td>\n",
       "      <td>0</td>\n",
       "      <td>0</td>\n",
       "      <td>0</td>\n",
       "      <td>NaN</td>\n",
       "      <td>NaN</td>\n",
       "    </tr>\n",
       "    <tr>\n",
       "      <th>308636</th>\n",
       "      <td>2800.0</td>\n",
       "      <td>0.0</td>\n",
       "      <td>0.00</td>\n",
       "      <td>0</td>\n",
       "      <td>No</td>\n",
       "      <td>0.5</td>\n",
       "      <td>NaT</td>\n",
       "      <td>NaT</td>\n",
       "      <td>0</td>\n",
       "      <td>0</td>\n",
       "      <td>0</td>\n",
       "      <td>NaN</td>\n",
       "      <td>NaN</td>\n",
       "    </tr>\n",
       "    <tr>\n",
       "      <th>308637</th>\n",
       "      <td>10000.0</td>\n",
       "      <td>701.0</td>\n",
       "      <td>47.88</td>\n",
       "      <td>0</td>\n",
       "      <td>No</td>\n",
       "      <td>0.5</td>\n",
       "      <td>NaT</td>\n",
       "      <td>NaT</td>\n",
       "      <td>0</td>\n",
       "      <td>0</td>\n",
       "      <td>0</td>\n",
       "      <td>NaN</td>\n",
       "      <td>NaN</td>\n",
       "    </tr>\n",
       "  </tbody>\n",
       "</table>\n",
       "<p>180611 rows × 13 columns</p>\n",
       "</div>"
      ],
      "text/plain": [
       "        loan_amnt   FICO    dti  funded_amnt Accepted  new_emp_length  \\\n",
       "128027    20000.0  663.0  26.07            0       No             0.5   \n",
       "128028    10500.0  652.0  22.14            0       No             0.5   \n",
       "128029    18000.0  684.0  45.57            0       No             0.5   \n",
       "128030     5000.0  585.0  12.63            0       No             0.5   \n",
       "128031     6500.0  591.0   2.40            0       No             0.5   \n",
       "...           ...    ...    ...          ...      ...             ...   \n",
       "308633    10000.0  640.0  66.27            0       No             0.5   \n",
       "308634     5000.0  624.0   0.94            0       No             0.5   \n",
       "308635    20000.0  685.0  45.48            0       No             0.5   \n",
       "308636     2800.0    0.0   0.00            0       No             0.5   \n",
       "308637    10000.0  701.0  47.88            0       No             0.5   \n",
       "\n",
       "       new_Accept_d new_issue_d new_greaterthan120 new_Between31_120  \\\n",
       "128027          NaT         NaT                  0                 0   \n",
       "128028          NaT         NaT                  0                 0   \n",
       "128029          NaT         NaT                  0                 0   \n",
       "128030          NaT         NaT                  0                 0   \n",
       "128031          NaT         NaT                  0                 0   \n",
       "...             ...         ...                ...               ...   \n",
       "308633          NaT         NaT                  0                 0   \n",
       "308634          NaT         NaT                  0                 0   \n",
       "308635          NaT         NaT                  0                 0   \n",
       "308636          NaT         NaT                  0                 0   \n",
       "308637          NaT         NaT                  0                 0   \n",
       "\n",
       "        new_accepted new_addr_state new_loan_status  \n",
       "128027             0            NaN             NaN  \n",
       "128028             0            NaN             NaN  \n",
       "128029             0            NaN             NaN  \n",
       "128030             0            NaN             NaN  \n",
       "128031             0            NaN             NaN  \n",
       "...              ...            ...             ...  \n",
       "308633             0            NaN             NaN  \n",
       "308634             0            NaN             NaN  \n",
       "308635             0            NaN             NaN  \n",
       "308636             0            NaN             NaN  \n",
       "308637             0            NaN             NaN  \n",
       "\n",
       "[180611 rows x 13 columns]"
      ]
     },
     "execution_count": 61,
     "metadata": {},
     "output_type": "execute_result"
    }
   ],
   "source": [
    "df[df.isnull().any(1)]"
   ]
  },
  {
   "cell_type": "markdown",
   "id": "d48e6801",
   "metadata": {},
   "source": [
    "# Identifying Outliers"
   ]
  },
  {
   "cell_type": "code",
   "execution_count": null,
   "id": "955171b1",
   "metadata": {},
   "outputs": [],
   "source": []
  },
  {
   "cell_type": "code",
   "execution_count": 69,
   "id": "7af5cbe9",
   "metadata": {},
   "outputs": [
    {
     "data": {
      "image/png": "[encoded data removed]",
      "text/plain": [
       "<Figure size 1440x360 with 1 Axes>"
      ]
     },
     "metadata": {},
     "output_type": "display_data"
    }
   ],
   "source": [
    "plt.figure(figsize=(20,5))\n",
    "sns.boxplot(data=df,x='loan_amnt');"
   ]
  },
  {
   "cell_type": "code",
   "execution_count": null,
   "id": "71c42f84",
   "metadata": {},
   "outputs": [],
   "source": []
  },
  {
   "cell_type": "code",
   "execution_count": 150,
   "id": "52cf127e",
   "metadata": {},
   "outputs": [
    {
     "data": {
      "image/png": "[encoded data removed]",
      "text/plain": [
       "<Figure size 1440x360 with 1 Axes>"
      ]
     },
     "metadata": {},
     "output_type": "display_data"
    }
   ],
   "source": [
    "plt.figure(figsize=(20,5))\n",
    "sns.boxplot(data=df,x='FICO');"
   ]
  },
  {
   "cell_type": "code",
   "execution_count": null,
   "id": "ff1b9ee8",
   "metadata": {},
   "outputs": [],
   "source": []
  },
  {
   "cell_type": "code",
   "execution_count": 151,
   "id": "2ddde82b",
   "metadata": {},
   "outputs": [
    {
     "data": {
      "image/png": "[encoded data removed]",
      "text/plain": [
       "<Figure size 1440x360 with 1 Axes>"
      ]
     },
     "metadata": {},
     "output_type": "display_data"
    }
   ],
   "source": [
    "plt.figure(figsize=(20,5))\n",
    "sns.boxplot(data=df,x='dti');"
   ]
  },
  {
   "cell_type": "code",
   "execution_count": null,
   "id": "19242a8c",
   "metadata": {},
   "outputs": [],
   "source": []
  },
  {
   "cell_type": "code",
   "execution_count": 155,
   "id": "1e36abd5",
   "metadata": {},
   "outputs": [
    {
     "data": {
      "image/png": "[encoded data removed]",
      "text/plain": [
       "<Figure size 1440x360 with 1 Axes>"
      ]
     },
     "metadata": {},
     "output_type": "display_data"
    }
   ],
   "source": [
    "plt.figure(figsize=(20,5))\n",
    "sns.boxplot(data=df,x='funded_amnt');"
   ]
  },
  {
   "cell_type": "markdown",
   "id": "fb897f2a",
   "metadata": {},
   "source": [
    "## Duplicated values"
   ]
  },
  {
   "cell_type": "code",
   "execution_count": 58,
   "id": "7e0a66fd",
   "metadata": {},
   "outputs": [
    {
     "data": {
      "text/plain": [
       "True"
      ]
     },
     "execution_count": 58,
     "metadata": {},
     "output_type": "execute_result"
    }
   ],
   "source": [
    "df.duplicated().any()"
   ]
  },
  {
   "cell_type": "code",
   "execution_count": 59,
   "id": "7ddcbc79",
   "metadata": {},
   "outputs": [
    {
     "data": {
      "text/plain": [
       "14346"
      ]
     },
     "execution_count": 59,
     "metadata": {},
     "output_type": "execute_result"
    }
   ],
   "source": [
    "df.duplicated(keep=False).sum()"
   ]
  },
  {
   "cell_type": "code",
   "execution_count": 60,
   "id": "1c51c845",
   "metadata": {},
   "outputs": [
    {
     "data": {
      "text/html": [
       "<div>\n",
       "<style scoped>\n",
       "    .dataframe tbody tr th:only-of-type {\n",
       "        vertical-align: middle;\n",
       "    }\n",
       "\n",
       "    .dataframe tbody tr th {\n",
       "        vertical-align: top;\n",
       "    }\n",
       "\n",
       "    .dataframe thead th {\n",
       "        text-align: right;\n",
       "    }\n",
       "</style>\n",
       "<table border=\"1\" class=\"dataframe\">\n",
       "  <thead>\n",
       "    <tr style=\"text-align: right;\">\n",
       "      <th></th>\n",
       "      <th>loan_amnt</th>\n",
       "      <th>FICO</th>\n",
       "      <th>dti</th>\n",
       "      <th>funded_amnt</th>\n",
       "      <th>Accepted</th>\n",
       "      <th>new_emp_length</th>\n",
       "      <th>new_Accept_d</th>\n",
       "      <th>new_issue_d</th>\n",
       "      <th>new_greaterthan120</th>\n",
       "      <th>new_Between31_120</th>\n",
       "      <th>new_accepted</th>\n",
       "      <th>new_addr_state</th>\n",
       "      <th>new_loan_status</th>\n",
       "    </tr>\n",
       "  </thead>\n",
       "  <tbody>\n",
       "    <tr>\n",
       "      <th>0</th>\n",
       "      <td>25000.0</td>\n",
       "      <td>737.0</td>\n",
       "      <td>19.48</td>\n",
       "      <td>25000</td>\n",
       "      <td>Yes</td>\n",
       "      <td>0.5</td>\n",
       "      <td>2009-07-26</td>\n",
       "      <td>2009-08-05</td>\n",
       "      <td>0</td>\n",
       "      <td>0</td>\n",
       "      <td>1</td>\n",
       "      <td>CA</td>\n",
       "      <td>Fully Paid</td>\n",
       "    </tr>\n",
       "    <tr>\n",
       "      <th>1</th>\n",
       "      <td>7000.0</td>\n",
       "      <td>707.0</td>\n",
       "      <td>14.29</td>\n",
       "      <td>7000</td>\n",
       "      <td>Yes</td>\n",
       "      <td>0.5</td>\n",
       "      <td>2008-05-12</td>\n",
       "      <td>2008-05-27</td>\n",
       "      <td>0</td>\n",
       "      <td>0</td>\n",
       "      <td>1</td>\n",
       "      <td>NY</td>\n",
       "      <td>Fully Paid</td>\n",
       "    </tr>\n",
       "    <tr>\n",
       "      <th>2</th>\n",
       "      <td>1200.0</td>\n",
       "      <td>677.0</td>\n",
       "      <td>5.47</td>\n",
       "      <td>1200</td>\n",
       "      <td>Yes</td>\n",
       "      <td>11.0</td>\n",
       "      <td>2010-03-11</td>\n",
       "      <td>2010-03-22</td>\n",
       "      <td>0</td>\n",
       "      <td>0</td>\n",
       "      <td>1</td>\n",
       "      <td>TX</td>\n",
       "      <td>Fully Paid</td>\n",
       "    </tr>\n",
       "    <tr>\n",
       "      <th>3</th>\n",
       "      <td>10800.0</td>\n",
       "      <td>682.0</td>\n",
       "      <td>11.63</td>\n",
       "      <td>10800</td>\n",
       "      <td>Yes</td>\n",
       "      <td>6.0</td>\n",
       "      <td>2009-11-04</td>\n",
       "      <td>2009-11-12</td>\n",
       "      <td>0</td>\n",
       "      <td>0</td>\n",
       "      <td>1</td>\n",
       "      <td>CT</td>\n",
       "      <td>Fully Paid</td>\n",
       "    </tr>\n",
       "    <tr>\n",
       "      <th>4</th>\n",
       "      <td>7200.0</td>\n",
       "      <td>662.0</td>\n",
       "      <td>2.05</td>\n",
       "      <td>7200</td>\n",
       "      <td>Yes</td>\n",
       "      <td>9.0</td>\n",
       "      <td>2012-08-14</td>\n",
       "      <td>2012-08-21</td>\n",
       "      <td>0</td>\n",
       "      <td>0</td>\n",
       "      <td>1</td>\n",
       "      <td>RI</td>\n",
       "      <td>Current</td>\n",
       "    </tr>\n",
       "  </tbody>\n",
       "</table>\n",
       "</div>"
      ],
      "text/plain": [
       "   loan_amnt   FICO    dti  funded_amnt Accepted  new_emp_length new_Accept_d  \\\n",
       "0    25000.0  737.0  19.48        25000      Yes             0.5   2009-07-26   \n",
       "1     7000.0  707.0  14.29         7000      Yes             0.5   2008-05-12   \n",
       "2     1200.0  677.0   5.47         1200      Yes            11.0   2010-03-11   \n",
       "3    10800.0  682.0  11.63        10800      Yes             6.0   2009-11-04   \n",
       "4     7200.0  662.0   2.05         7200      Yes             9.0   2012-08-14   \n",
       "\n",
       "  new_issue_d new_greaterthan120 new_Between31_120  new_accepted  \\\n",
       "0  2009-08-05                  0                 0             1   \n",
       "1  2008-05-27                  0                 0             1   \n",
       "2  2010-03-22                  0                 0             1   \n",
       "3  2009-11-12                  0                 0             1   \n",
       "4  2012-08-21                  0                 0             1   \n",
       "\n",
       "  new_addr_state new_loan_status  \n",
       "0             CA      Fully Paid  \n",
       "1             NY      Fully Paid  \n",
       "2             TX      Fully Paid  \n",
       "3             CT      Fully Paid  \n",
       "4             RI         Current  "
      ]
     },
     "execution_count": 60,
     "metadata": {},
     "output_type": "execute_result"
    }
   ],
   "source": [
    "df.head()"
   ]
  },
  {
   "cell_type": "code",
   "execution_count": 65,
   "id": "1e051841",
   "metadata": {},
   "outputs": [],
   "source": [
    "df1=df.drop_duplicates()"
   ]
  },
  {
   "cell_type": "code",
   "execution_count": 66,
   "id": "02c1fba5",
   "metadata": {},
   "outputs": [
    {
     "data": {
      "text/plain": [
       "0"
      ]
     },
     "execution_count": 66,
     "metadata": {},
     "output_type": "execute_result"
    }
   ],
   "source": [
    "df1.duplicated(keep=False).sum()"
   ]
  },
  {
   "cell_type": "markdown",
   "id": "1376f36c",
   "metadata": {},
   "source": [
    "# section 3"
   ]
  },
  {
   "cell_type": "code",
   "execution_count": null,
   "id": "00f78baa",
   "metadata": {},
   "outputs": [],
   "source": []
  },
  {
   "cell_type": "code",
   "execution_count": 67,
   "id": "1ea66fa3",
   "metadata": {},
   "outputs": [
    {
     "data": {
      "text/plain": [
       "loan_amnt                    float64\n",
       "FICO                         float64\n",
       "dti                          float64\n",
       "funded_amnt                    int64\n",
       "Accepted                      object\n",
       "new_emp_length               float64\n",
       "new_Accept_d          datetime64[ns]\n",
       "new_issue_d           datetime64[ns]\n",
       "new_greaterthan120            object\n",
       "new_Between31_120             object\n",
       "new_accepted                   int64\n",
       "new_addr_state                object\n",
       "new_loan_status               object\n",
       "dtype: object"
      ]
     },
     "execution_count": 67,
     "metadata": {},
     "output_type": "execute_result"
    }
   ],
   "source": [
    "df.dtypes"
   ]
  },
  {
   "cell_type": "code",
   "execution_count": 108,
   "id": "58bafa94",
   "metadata": {},
   "outputs": [
    {
     "data": {
      "text/html": [
       "<div>\n",
       "<style scoped>\n",
       "    .dataframe tbody tr th:only-of-type {\n",
       "        vertical-align: middle;\n",
       "    }\n",
       "\n",
       "    .dataframe tbody tr th {\n",
       "        vertical-align: top;\n",
       "    }\n",
       "\n",
       "    .dataframe thead th {\n",
       "        text-align: right;\n",
       "    }\n",
       "</style>\n",
       "<table border=\"1\" class=\"dataframe\">\n",
       "  <thead>\n",
       "    <tr style=\"text-align: right;\">\n",
       "      <th></th>\n",
       "      <th>loan_amnt</th>\n",
       "      <th>FICO</th>\n",
       "      <th>dti</th>\n",
       "      <th>funded_amnt</th>\n",
       "      <th>Accepted</th>\n",
       "      <th>new_emp_length</th>\n",
       "      <th>new_Accept_d</th>\n",
       "      <th>new_issue_d</th>\n",
       "      <th>new_greaterthan120</th>\n",
       "      <th>new_Between31_120</th>\n",
       "      <th>new_accepted</th>\n",
       "      <th>new_addr_state</th>\n",
       "      <th>new_loan_status</th>\n",
       "    </tr>\n",
       "  </thead>\n",
       "  <tbody>\n",
       "    <tr>\n",
       "      <th>0</th>\n",
       "      <td>25000.0</td>\n",
       "      <td>737.0</td>\n",
       "      <td>19.48</td>\n",
       "      <td>25000</td>\n",
       "      <td>Yes</td>\n",
       "      <td>0.5</td>\n",
       "      <td>2009-07-26</td>\n",
       "      <td>2009-08-05</td>\n",
       "      <td>0</td>\n",
       "      <td>0</td>\n",
       "      <td>1</td>\n",
       "      <td>CA</td>\n",
       "      <td>Fully Paid</td>\n",
       "    </tr>\n",
       "    <tr>\n",
       "      <th>1</th>\n",
       "      <td>7000.0</td>\n",
       "      <td>707.0</td>\n",
       "      <td>14.29</td>\n",
       "      <td>7000</td>\n",
       "      <td>Yes</td>\n",
       "      <td>0.5</td>\n",
       "      <td>2008-05-12</td>\n",
       "      <td>2008-05-27</td>\n",
       "      <td>0</td>\n",
       "      <td>0</td>\n",
       "      <td>1</td>\n",
       "      <td>NY</td>\n",
       "      <td>Fully Paid</td>\n",
       "    </tr>\n",
       "    <tr>\n",
       "      <th>2</th>\n",
       "      <td>1200.0</td>\n",
       "      <td>677.0</td>\n",
       "      <td>5.47</td>\n",
       "      <td>1200</td>\n",
       "      <td>Yes</td>\n",
       "      <td>11.0</td>\n",
       "      <td>2010-03-11</td>\n",
       "      <td>2010-03-22</td>\n",
       "      <td>0</td>\n",
       "      <td>0</td>\n",
       "      <td>1</td>\n",
       "      <td>TX</td>\n",
       "      <td>Fully Paid</td>\n",
       "    </tr>\n",
       "    <tr>\n",
       "      <th>3</th>\n",
       "      <td>10800.0</td>\n",
       "      <td>682.0</td>\n",
       "      <td>11.63</td>\n",
       "      <td>10800</td>\n",
       "      <td>Yes</td>\n",
       "      <td>6.0</td>\n",
       "      <td>2009-11-04</td>\n",
       "      <td>2009-11-12</td>\n",
       "      <td>0</td>\n",
       "      <td>0</td>\n",
       "      <td>1</td>\n",
       "      <td>CT</td>\n",
       "      <td>Fully Paid</td>\n",
       "    </tr>\n",
       "    <tr>\n",
       "      <th>4</th>\n",
       "      <td>7200.0</td>\n",
       "      <td>662.0</td>\n",
       "      <td>2.05</td>\n",
       "      <td>7200</td>\n",
       "      <td>Yes</td>\n",
       "      <td>9.0</td>\n",
       "      <td>2012-08-14</td>\n",
       "      <td>2012-08-21</td>\n",
       "      <td>0</td>\n",
       "      <td>0</td>\n",
       "      <td>1</td>\n",
       "      <td>RI</td>\n",
       "      <td>Current</td>\n",
       "    </tr>\n",
       "  </tbody>\n",
       "</table>\n",
       "</div>"
      ],
      "text/plain": [
       "   loan_amnt   FICO    dti  funded_amnt Accepted  new_emp_length new_Accept_d  \\\n",
       "0    25000.0  737.0  19.48        25000      Yes             0.5   2009-07-26   \n",
       "1     7000.0  707.0  14.29         7000      Yes             0.5   2008-05-12   \n",
       "2     1200.0  677.0   5.47         1200      Yes            11.0   2010-03-11   \n",
       "3    10800.0  682.0  11.63        10800      Yes             6.0   2009-11-04   \n",
       "4     7200.0  662.0   2.05         7200      Yes             9.0   2012-08-14   \n",
       "\n",
       "  new_issue_d  new_greaterthan120  new_Between31_120  new_accepted  \\\n",
       "0  2009-08-05                   0                  0             1   \n",
       "1  2008-05-27                   0                  0             1   \n",
       "2  2010-03-22                   0                  0             1   \n",
       "3  2009-11-12                   0                  0             1   \n",
       "4  2012-08-21                   0                  0             1   \n",
       "\n",
       "  new_addr_state new_loan_status  \n",
       "0             CA      Fully Paid  \n",
       "1             NY      Fully Paid  \n",
       "2             TX      Fully Paid  \n",
       "3             CT      Fully Paid  \n",
       "4             RI         Current  "
      ]
     },
     "execution_count": 108,
     "metadata": {},
     "output_type": "execute_result"
    }
   ],
   "source": [
    "df.head()"
   ]
  },
  {
   "cell_type": "code",
   "execution_count": null,
   "id": "fa8687b3",
   "metadata": {},
   "outputs": [],
   "source": [
    "# For Object Variables"
   ]
  },
  {
   "cell_type": "code",
   "execution_count": 68,
   "id": "7d38354e",
   "metadata": {},
   "outputs": [
    {
     "data": {
      "text/plain": [
       "array(['CA', 'NY', 'TX', 'CT', 'RI', 'MD', 'MA', 'MI', 'KY', 'MS', 'KS',\n",
       "       'GA', 'NC', 'NJ', 'WA', 'OH', 'AZ', 'IL', 'CO', 'WI', 'FL', 'IN',\n",
       "       'VA', 'ME', 'NE', 'NM', 'MO', 'UT', 'LA', 'SC', 'AL', 'TN', 'NH',\n",
       "       'SD', 'DE', 'WY', 'OR', 'MN', 'DC', 'HI', 'NV', 'VT', 'IA', 'ID',\n",
       "       'PA', 'AR', 'OK', 'AK', 'MT', 'WV', nan], dtype=object)"
      ]
     },
     "execution_count": 68,
     "metadata": {},
     "output_type": "execute_result"
    }
   ],
   "source": [
    "df['new_addr_state'].unique()"
   ]
  },
  {
   "cell_type": "code",
   "execution_count": null,
   "id": "78622a07",
   "metadata": {},
   "outputs": [],
   "source": []
  },
  {
   "cell_type": "code",
   "execution_count": 99,
   "id": "458a6588",
   "metadata": {},
   "outputs": [
    {
     "data": {
      "text/plain": [
       "array([25000,  7000,  1200, ...,   925,  1025,     0], dtype=int64)"
      ]
     },
     "execution_count": 99,
     "metadata": {},
     "output_type": "execute_result"
    }
   ],
   "source": [
    "df['funded_amnt'].unique()"
   ]
  },
  {
   "cell_type": "code",
   "execution_count": null,
   "id": "edcf257b",
   "metadata": {},
   "outputs": [],
   "source": []
  },
  {
   "cell_type": "code",
   "execution_count": 126,
   "id": "0bc7c101",
   "metadata": {},
   "outputs": [
    {
     "data": {
      "image/png": "[encoded data removed]",
      "text/plain": [
       "<Figure size 1440x360 with 1 Axes>"
      ]
     },
     "metadata": {},
     "output_type": "display_data"
    }
   ],
   "source": [
    "plt.figure(figsize=(20,5))\n",
    "k=sns.barplot(x=df['new_addr_state'],y=df['funded_amnt']);"
   ]
  },
  {
   "cell_type": "code",
   "execution_count": null,
   "id": "a365cf37",
   "metadata": {},
   "outputs": [],
   "source": []
  },
  {
   "cell_type": "code",
   "execution_count": null,
   "id": "1abc7bd0",
   "metadata": {},
   "outputs": [],
   "source": [
    "# this is the plot for the state of the borrower and total amount of loan committed at that time\n",
    "# The IN state borrower are highest at "
   ]
  },
  {
   "cell_type": "code",
   "execution_count": 70,
   "id": "aa34fb37",
   "metadata": {},
   "outputs": [
    {
     "data": {
      "image/png": "[encoded data removed]",
      "text/plain": [
       "<Figure size 1440x360 with 1 Axes>"
      ]
     },
     "metadata": {},
     "output_type": "display_data"
    }
   ],
   "source": [
    "plt.figure(figsize=(20,5))\n",
    "sns.barplot(x=df['new_addr_state'],y=df['funded_amnt']);\n"
   ]
  },
  {
   "cell_type": "code",
   "execution_count": null,
   "id": "576e152c",
   "metadata": {},
   "outputs": [],
   "source": []
  },
  {
   "cell_type": "code",
   "execution_count": 110,
   "id": "5bbff51b",
   "metadata": {},
   "outputs": [
    {
     "data": {
      "image/png": "[encoded data removed]",
      "text/plain": [
       "<Figure size 720x360 with 1 Axes>"
      ]
     },
     "metadata": {},
     "output_type": "display_data"
    }
   ],
   "source": [
    "plt.figure(figsize=(10,5))\n",
    "sns.barplot(y=df['new_loan_status'],x=df['new_greaterthan120']);"
   ]
  },
  {
   "cell_type": "code",
   "execution_count": 148,
   "id": "9eae0349",
   "metadata": {},
   "outputs": [
    {
     "data": {
      "text/plain": [
       "array(['Fully Paid', 'Current', 'Charged Off', 'Late (31-120 days)',\n",
       "       'Default', 'In Grace Period', 'Late (16-30 days)', 'Issued',\n",
       "       'Does not meet the current credit policy.  Status:Fully Paid',\n",
       "       'Does not meet the current credit policy.  Status:Charged Off',\n",
       "       'Does not meet the current credit policy.  Status:Current',\n",
       "       'Does not meet the current credit policy.  Status:Late (31-120 days)',\n",
       "       'Does not meet the current credit policy.  Status:In Grace Period',\n",
       "       'Does not meet the current credit policy.  Status:Late (16-30 days)',\n",
       "       nan], dtype=object)"
      ]
     },
     "execution_count": 148,
     "metadata": {},
     "output_type": "execute_result"
    }
   ],
   "source": [
    "df['new_loan_status'].unique()"
   ]
  },
  {
   "cell_type": "code",
   "execution_count": 140,
   "id": "ef360e17",
   "metadata": {},
   "outputs": [
    {
     "data": {
      "image/png": "[encoded data removed]",
      "text/plain": [
       "<Figure size 1080x576 with 1 Axes>"
      ]
     },
     "metadata": {},
     "output_type": "display_data"
    }
   ],
   "source": [
    "plt.figure(figsize=(15,8))\n",
    "sns.countplot(data=df,y='new_loan_status');"
   ]
  },
  {
   "cell_type": "code",
   "execution_count": null,
   "id": "a21b55b9",
   "metadata": {},
   "outputs": [],
   "source": []
  },
  {
   "cell_type": "code",
   "execution_count": 142,
   "id": "e0905a04",
   "metadata": {},
   "outputs": [
    {
     "data": {
      "image/png": "[encoded data removed]",
      "text/plain": [
       "<Figure size 720x1080 with 1 Axes>"
      ]
     },
     "metadata": {},
     "output_type": "display_data"
    }
   ],
   "source": [
    "plt.figure(figsize=(10,15))\n",
    "sns.countplot(data=df,y='new_addr_state');"
   ]
  },
  {
   "cell_type": "code",
   "execution_count": 141,
   "id": "8cd3d503",
   "metadata": {},
   "outputs": [
    {
     "data": {
      "image/png": "[encoded data removed]",
      "text/plain": [
       "<Figure size 720x3600 with 1 Axes>"
      ]
     },
     "metadata": {},
     "output_type": "display_data"
    }
   ],
   "source": [
    "plt.figure(figsize=(10,50))\n",
    "sns.countplot(data=df,y='new_addr_state',hue='new_loan_status');"
   ]
  },
  {
   "cell_type": "code",
   "execution_count": 144,
   "id": "0498eb8a",
   "metadata": {},
   "outputs": [
    {
     "data": {
      "image/png": "[encoded data removed]",
      "text/plain": [
       "<Figure size 720x2880 with 1 Axes>"
      ]
     },
     "metadata": {},
     "output_type": "display_data"
    }
   ],
   "source": [
    "plt.figure(figsize=(10,40))\n",
    "sns.countplot(data=df,y='new_addr_state',hue='new_loan_status');"
   ]
  },
  {
   "cell_type": "code",
   "execution_count": null,
   "id": "e922af2d",
   "metadata": {},
   "outputs": [],
   "source": []
  },
  {
   "cell_type": "code",
   "execution_count": null,
   "id": "dd676bd2",
   "metadata": {},
   "outputs": [],
   "source": []
  },
  {
   "cell_type": "code",
   "execution_count": null,
   "id": "33a9f4d2",
   "metadata": {},
   "outputs": [],
   "source": [
    "# For Numerical variables"
   ]
  },
  {
   "cell_type": "code",
   "execution_count": 72,
   "id": "5e37ef50",
   "metadata": {},
   "outputs": [
    {
     "data": {
      "image/png": "[encoded data removed]",
      "text/plain": [
       "<Figure size 432x288 with 1 Axes>"
      ]
     },
     "metadata": {},
     "output_type": "display_data"
    }
   ],
   "source": [
    "b=plt.hist(df[\"FICO\"],bins=15);"
   ]
  },
  {
   "cell_type": "code",
   "execution_count": 73,
   "id": "2f6d9545",
   "metadata": {},
   "outputs": [],
   "source": [
    "# Fico is like as the credit score . "
   ]
  },
  {
   "cell_type": "code",
   "execution_count": 74,
   "id": "f4d0837b",
   "metadata": {},
   "outputs": [
    {
     "data": {
      "text/plain": [
       "373.0        1\n",
       "381.0        1\n",
       "835.0        1\n",
       "849.0        1\n",
       "834.0        1\n",
       "         ...  \n",
       "677.0     9551\n",
       "692.0     9623\n",
       "687.0     9758\n",
       "682.0    10099\n",
       "0.0      12484\n",
       "Name: FICO, Length: 470, dtype: int64"
      ]
     },
     "execution_count": 74,
     "metadata": {},
     "output_type": "execute_result"
    }
   ],
   "source": [
    "df[\"FICO\"].value_counts().sort_values()"
   ]
  },
  {
   "cell_type": "code",
   "execution_count": null,
   "id": "0e8a22dc",
   "metadata": {},
   "outputs": [],
   "source": []
  },
  {
   "cell_type": "code",
   "execution_count": 71,
   "id": "91b6f38b",
   "metadata": {},
   "outputs": [
    {
     "data": {
      "image/png": "[encoded data removed]",
      "text/plain": [
       "<Figure size 432x288 with 1 Axes>"
      ]
     },
     "metadata": {},
     "output_type": "display_data"
    }
   ],
   "source": [
    "plt.hist(df[\"loan_amnt\"]);"
   ]
  },
  {
   "cell_type": "code",
   "execution_count": 75,
   "id": "3fbe6e44",
   "metadata": {},
   "outputs": [
    {
     "data": {
      "text/plain": [
       "40925.0        1\n",
       "21735.0        1\n",
       "15569.0        1\n",
       "15210.0        1\n",
       "33175.0        1\n",
       "           ...  \n",
       "20000.0    17840\n",
       "15000.0    18095\n",
       "35000.0    18970\n",
       "5000.0     21901\n",
       "10000.0    28287\n",
       "Name: loan_amnt, Length: 1413, dtype: int64"
      ]
     },
     "execution_count": 75,
     "metadata": {},
     "output_type": "execute_result"
    }
   ],
   "source": [
    "df[\"loan_amnt\"].value_counts().sort_values()"
   ]
  },
  {
   "cell_type": "code",
   "execution_count": 76,
   "id": "d81bf1cc",
   "metadata": {},
   "outputs": [
    {
     "data": {
      "image/png": "[encoded data removed]",
      "text/plain": [
       "<Figure size 432x288 with 1 Axes>"
      ]
     },
     "metadata": {},
     "output_type": "display_data"
    }
   ],
   "source": [
    "plt.hist(df[\"dti\"],bins=15);"
   ]
  },
  {
   "cell_type": "code",
   "execution_count": 77,
   "id": "0748d519",
   "metadata": {},
   "outputs": [
    {
     "data": {
      "text/plain": [
       " 99.57            1\n",
       " 77.84            1\n",
       " 604.00           1\n",
       " 164.68           1\n",
       " 678.20           1\n",
       "              ...  \n",
       " 12.00          247\n",
       " 1.20           253\n",
       " 199998.00      277\n",
       "-1.00           789\n",
       " 0.00         15742\n",
       "Name: dti, Length: 12249, dtype: int64"
      ]
     },
     "execution_count": 77,
     "metadata": {},
     "output_type": "execute_result"
    }
   ],
   "source": [
    "df[\"dti\"].value_counts().sort_values()"
   ]
  },
  {
   "cell_type": "code",
   "execution_count": 78,
   "id": "58cb093d",
   "metadata": {},
   "outputs": [
    {
     "data": {
      "image/png": "[encoded data removed]",
      "text/plain": [
       "<Figure size 432x288 with 1 Axes>"
      ]
     },
     "metadata": {},
     "output_type": "display_data"
    }
   ],
   "source": [
    "plt.hist(df[\"funded_amnt\"],bins=15);"
   ]
  },
  {
   "cell_type": "code",
   "execution_count": 79,
   "id": "974cafe1",
   "metadata": {},
   "outputs": [
    {
     "data": {
      "text/plain": [
       "29425         1\n",
       "26125         1\n",
       "34525         1\n",
       "28575         1\n",
       "27550         1\n",
       "          ...  \n",
       "15000      5298\n",
       "20000      5552\n",
       "12000      7051\n",
       "10000      8975\n",
       "0        180611\n",
       "Name: funded_amnt, Length: 1241, dtype: int64"
      ]
     },
     "execution_count": 79,
     "metadata": {},
     "output_type": "execute_result"
    }
   ],
   "source": [
    "df[\"funded_amnt\"].value_counts().sort_values()"
   ]
  },
  {
   "cell_type": "code",
   "execution_count": 80,
   "id": "bea9d4dc",
   "metadata": {},
   "outputs": [
    {
     "data": {
      "image/png": "[encoded data removed]",
      "text/plain": [
       "<Figure size 432x288 with 1 Axes>"
      ]
     },
     "metadata": {},
     "output_type": "display_data"
    }
   ],
   "source": [
    "plt.hist(df[\"new_emp_length\"],bins=15);"
   ]
  },
  {
   "cell_type": "code",
   "execution_count": 81,
   "id": "7fa759c0",
   "metadata": {},
   "outputs": [
    {
     "data": {
      "text/plain": [
       "9.000000       5707\n",
       "3.306723       6109\n",
       "8.000000       7033\n",
       "7.000000       8595\n",
       "6.000000      10506\n",
       "4.000000      12593\n",
       "5.000000      13639\n",
       "1.000000      14212\n",
       "3.000000      14955\n",
       "2.000000      17754\n",
       "11.000000     43584\n",
       "0.500000     153951\n",
       "Name: new_emp_length, dtype: int64"
      ]
     },
     "execution_count": 81,
     "metadata": {},
     "output_type": "execute_result"
    }
   ],
   "source": [
    "df[\"new_emp_length\"].value_counts().sort_values()"
   ]
  },
  {
   "cell_type": "code",
   "execution_count": 82,
   "id": "0e5b42db",
   "metadata": {},
   "outputs": [
    {
     "data": {
      "image/png": "[encoded data removed]",
      "text/plain": [
       "<Figure size 432x288 with 1 Axes>"
      ]
     },
     "metadata": {},
     "output_type": "display_data"
    }
   ],
   "source": [
    "plt.hist(df[\"new_issue_d\"],bins=15);"
   ]
  },
  {
   "cell_type": "code",
   "execution_count": 183,
   "id": "32c6a351",
   "metadata": {},
   "outputs": [
    {
     "data": {
      "text/plain": [
       "2008-03-03       1\n",
       "2007-07-01       1\n",
       "2007-06-27       1\n",
       "2008-10-17       1\n",
       "2007-06-24       1\n",
       "              ... \n",
       "2013-02-01    1184\n",
       "2012-09-04    1233\n",
       "2013-03-01    1274\n",
       "2012-11-05    1396\n",
       "2013-02-04    1471\n",
       "Name: new_issue_d, Length: 1477, dtype: int64"
      ]
     },
     "execution_count": 183,
     "metadata": {},
     "output_type": "execute_result"
    }
   ],
   "source": [
    "df[\"new_issue_d\"].value_counts().sort_values()"
   ]
  },
  {
   "cell_type": "code",
   "execution_count": 83,
   "id": "de96b48c",
   "metadata": {},
   "outputs": [
    {
     "data": {
      "image/png": "[encoded data removed]",
      "text/plain": [
       "<Figure size 432x288 with 1 Axes>"
      ]
     },
     "metadata": {},
     "output_type": "display_data"
    }
   ],
   "source": [
    "plt.hist(df[\"new_Accept_d\"],bins=15);"
   ]
  },
  {
   "cell_type": "code",
   "execution_count": 84,
   "id": "e3dcc66a",
   "metadata": {},
   "outputs": [
    {
     "data": {
      "text/plain": [
       "2007-06-17      1\n",
       "2008-12-27      1\n",
       "2008-09-12      1\n",
       "2008-08-29      1\n",
       "2008-05-17      1\n",
       "             ... \n",
       "2013-02-04    400\n",
       "2013-04-02    453\n",
       "2013-01-16    459\n",
       "2013-01-15    514\n",
       "2013-01-14    554\n",
       "Name: new_Accept_d, Length: 2119, dtype: int64"
      ]
     },
     "execution_count": 84,
     "metadata": {},
     "output_type": "execute_result"
    }
   ],
   "source": [
    "df[\"new_Accept_d\"].value_counts().sort_values()"
   ]
  },
  {
   "cell_type": "code",
   "execution_count": 85,
   "id": "7eaa876f",
   "metadata": {},
   "outputs": [
    {
     "data": {
      "image/png": "[encoded data removed]",
      "text/plain": [
       "<Figure size 432x288 with 1 Axes>"
      ]
     },
     "metadata": {},
     "output_type": "display_data"
    }
   ],
   "source": [
    "plt.hist(df[\"new_greaterthan120\"],bins=15);"
   ]
  },
  {
   "cell_type": "code",
   "execution_count": 86,
   "id": "326c878c",
   "metadata": {},
   "outputs": [
    {
     "data": {
      "text/plain": [
       "1      4960\n",
       "0    303678\n",
       "Name: new_greaterthan120, dtype: int64"
      ]
     },
     "execution_count": 86,
     "metadata": {},
     "output_type": "execute_result"
    }
   ],
   "source": [
    "df[\"new_greaterthan120\"].value_counts().sort_values()"
   ]
  },
  {
   "cell_type": "code",
   "execution_count": 175,
   "id": "bc5e6eb0",
   "metadata": {},
   "outputs": [
    {
     "data": {
      "image/png": "[encoded data removed]",
      "text/plain": [
       "<Figure size 432x288 with 1 Axes>"
      ]
     },
     "metadata": {},
     "output_type": "display_data"
    }
   ],
   "source": [
    "plt.hist(df[\"new_Between31_120\"],bins=15);"
   ]
  },
  {
   "cell_type": "code",
   "execution_count": 186,
   "id": "4a2e84cb",
   "metadata": {},
   "outputs": [
    {
     "data": {
      "text/plain": [
       "1      1521\n",
       "0    307117\n",
       "Name: new_Between31_120, dtype: int64"
      ]
     },
     "execution_count": 186,
     "metadata": {},
     "output_type": "execute_result"
    }
   ],
   "source": [
    "df[\"new_Between31_120\"].value_counts().sort_values()"
   ]
  },
  {
   "cell_type": "code",
   "execution_count": 87,
   "id": "5b7e0f80",
   "metadata": {},
   "outputs": [
    {
     "data": {
      "image/png": "[encoded data removed]",
      "text/plain": [
       "<Figure size 432x288 with 1 Axes>"
      ]
     },
     "metadata": {},
     "output_type": "display_data"
    }
   ],
   "source": [
    "plt.hist(df[\"new_accepted\"]);"
   ]
  },
  {
   "cell_type": "code",
   "execution_count": 88,
   "id": "d7165c2a",
   "metadata": {},
   "outputs": [
    {
     "data": {
      "text/plain": [
       "1    128027\n",
       "0    180611\n",
       "Name: new_accepted, dtype: int64"
      ]
     },
     "execution_count": 88,
     "metadata": {},
     "output_type": "execute_result"
    }
   ],
   "source": [
    "df[\"new_accepted\"].value_counts().sort_values()"
   ]
  },
  {
   "cell_type": "code",
   "execution_count": 90,
   "id": "29a6c0cc",
   "metadata": {},
   "outputs": [],
   "source": [
    "d=pd.crosstab(df[\"new_emp_length\"],df[\"Accepted\"])"
   ]
  },
  {
   "cell_type": "code",
   "execution_count": 114,
   "id": "ac0d40d8",
   "metadata": {},
   "outputs": [],
   "source": [
    "d[\"percentage(yes)\"]=d[\"Yes\"]/(d[\"Yes\"]+d[\"No\"])*100"
   ]
  },
  {
   "cell_type": "code",
   "execution_count": 115,
   "id": "7c329add",
   "metadata": {},
   "outputs": [
    {
     "data": {
      "text/html": [
       "<div>\n",
       "<style scoped>\n",
       "    .dataframe tbody tr th:only-of-type {\n",
       "        vertical-align: middle;\n",
       "    }\n",
       "\n",
       "    .dataframe tbody tr th {\n",
       "        vertical-align: top;\n",
       "    }\n",
       "\n",
       "    .dataframe thead th {\n",
       "        text-align: right;\n",
       "    }\n",
       "</style>\n",
       "<table border=\"1\" class=\"dataframe\">\n",
       "  <thead>\n",
       "    <tr style=\"text-align: right;\">\n",
       "      <th>Accepted</th>\n",
       "      <th>No</th>\n",
       "      <th>Yes</th>\n",
       "      <th>percentage(yes)</th>\n",
       "    </tr>\n",
       "    <tr>\n",
       "      <th>new_emp_length</th>\n",
       "      <th></th>\n",
       "      <th></th>\n",
       "      <th></th>\n",
       "    </tr>\n",
       "  </thead>\n",
       "  <tbody>\n",
       "    <tr>\n",
       "      <th>0.5</th>\n",
       "      <td>142624</td>\n",
       "      <td>11327</td>\n",
       "      <td>7.357536</td>\n",
       "    </tr>\n",
       "    <tr>\n",
       "      <th>1.0</th>\n",
       "      <td>5090</td>\n",
       "      <td>9122</td>\n",
       "      <td>64.185196</td>\n",
       "    </tr>\n",
       "    <tr>\n",
       "      <th>2.0</th>\n",
       "      <td>5285</td>\n",
       "      <td>12469</td>\n",
       "      <td>70.232060</td>\n",
       "    </tr>\n",
       "    <tr>\n",
       "      <th>3.0</th>\n",
       "      <td>4215</td>\n",
       "      <td>10740</td>\n",
       "      <td>71.815446</td>\n",
       "    </tr>\n",
       "    <tr>\n",
       "      <th>4.0</th>\n",
       "      <td>3197</td>\n",
       "      <td>9396</td>\n",
       "      <td>74.612880</td>\n",
       "    </tr>\n",
       "    <tr>\n",
       "      <th>5.0</th>\n",
       "      <td>3080</td>\n",
       "      <td>10559</td>\n",
       "      <td>77.417699</td>\n",
       "    </tr>\n",
       "    <tr>\n",
       "      <th>6.0</th>\n",
       "      <td>2344</td>\n",
       "      <td>8162</td>\n",
       "      <td>77.688940</td>\n",
       "    </tr>\n",
       "    <tr>\n",
       "      <th>7.0</th>\n",
       "      <td>1770</td>\n",
       "      <td>6825</td>\n",
       "      <td>79.406632</td>\n",
       "    </tr>\n",
       "    <tr>\n",
       "      <th>8.0</th>\n",
       "      <td>1634</td>\n",
       "      <td>5399</td>\n",
       "      <td>76.766671</td>\n",
       "    </tr>\n",
       "    <tr>\n",
       "      <th>9.0</th>\n",
       "      <td>1210</td>\n",
       "      <td>4497</td>\n",
       "      <td>78.797967</td>\n",
       "    </tr>\n",
       "    <tr>\n",
       "      <th>11.0</th>\n",
       "      <td>8264</td>\n",
       "      <td>35320</td>\n",
       "      <td>81.038913</td>\n",
       "    </tr>\n",
       "  </tbody>\n",
       "</table>\n",
       "</div>"
      ],
      "text/plain": [
       "Accepted            No    Yes  percentage(yes)\n",
       "new_emp_length                                \n",
       "0.5             142624  11327         7.357536\n",
       "1.0               5090   9122        64.185196\n",
       "2.0               5285  12469        70.232060\n",
       "3.0               4215  10740        71.815446\n",
       "4.0               3197   9396        74.612880\n",
       "5.0               3080  10559        77.417699\n",
       "6.0               2344   8162        77.688940\n",
       "7.0               1770   6825        79.406632\n",
       "8.0               1634   5399        76.766671\n",
       "9.0               1210   4497        78.797967\n",
       "11.0              8264  35320        81.038913"
      ]
     },
     "execution_count": 115,
     "metadata": {},
     "output_type": "execute_result"
    }
   ],
   "source": [
    "d"
   ]
  },
  {
   "cell_type": "markdown",
   "id": "382be46a",
   "metadata": {},
   "source": [
    "### People with 10+ experiece are having high chances of getting the loan \n",
    "### so with increasing in length chances are increasing"
   ]
  },
  {
   "cell_type": "code",
   "execution_count": null,
   "id": "7473ea89",
   "metadata": {},
   "outputs": [],
   "source": []
  }
 ],
 "metadata": {
  "kernelspec": {
   "display_name": "Python 3",
   "language": "python",
   "name": "python3"
  },
  "language_info": {
   "codemirror_mode": {
    "name": "ipython",
    "version": 3
   },
   "file_extension": ".py",
   "mimetype": "text/x-python",
   "name": "python",
   "nbconvert_exporter": "python",
   "pygments_lexer": "ipython3",
   "version": "3.8.8"
  }
 },
 "nbformat": 4,
 "nbformat_minor": 5
}
